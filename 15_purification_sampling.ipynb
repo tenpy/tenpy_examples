{
 "cells": [
  {
   "cell_type": "markdown",
   "id": "2119a2de-87b5-4276-9a9e-d9f43792ff21",
   "metadata": {},
   "source": [
    "# Sampling of Purification MPS\n",
    "This notebook demonstrates how to sample basis states from a purification MPS to evaluate expectation values. While we demonstrate this for magnetization, a sum of local quantities $\\langle Z_i \\rangle$, sampling could be useful to stochastically evaluate non-local expectation values where contraction of the tensor network for exact evaluation is expensive. To demonstrate this functionality, we find the purification of the thermal density matrix $\\rho \\propto e^{-\\beta H}$ for the transverse field Ising model as a function of inverse temperature $\\beta$. We represent the density matrix as a purified pure state $|\\psi \\rangle$ on an enlarged Hilbert space $\\mathcal{H}_p \\otimes \\mathcal{H}_a $ such that $\\rho = \\mathrm{Tr}_a |\\psi \\rangle \\langle \\psi |$.\n",
    "\n",
    "The algorithm from sampling purification MPS is a simple extension of that for sampling MPS, explained in detail in the following two papers:\n",
    "1. https://arxiv.org/abs/1002.1305\n",
    "2. https://arxiv.org/abs/1201.3974"
   ]
  },
  {
   "cell_type": "code",
   "execution_count": 1,
   "id": "1676db25-ef96-4ce2-aeae-6f0b6e937cd7",
   "metadata": {},
   "outputs": [],
   "source": [
    "import numpy as np\n",
    "import sys\n",
    "from time import time"
   ]
  },
  {
   "cell_type": "code",
   "execution_count": 2,
   "id": "8b8df2a5-97b7-4818-973a-2854b4f4a768",
   "metadata": {},
   "outputs": [
    {
     "name": "stderr",
     "output_type": "stream",
     "text": [
      "/home/sajant/tenpy/tenpy/tools/optimization.py:317: UserWarning: Couldn't load compiled cython code. Code will run a bit slower.\n",
      "  warnings.warn(\"Couldn't load compiled cython code. Code will run a bit slower.\")\n"
     ]
    }
   ],
   "source": [
    "import tenpy\n",
    "from tenpy.models.tf_ising import TFIChain\n",
    "from tenpy.networks.purification_mps import PurificationMPS\n",
    "from tenpy.algorithms.purification import PurificationTEBD, PurificationApplyMPO"
   ]
  },
  {
   "cell_type": "markdown",
   "id": "296dfee9-7b27-49be-81fc-23c540f8df93",
   "metadata": {},
   "source": [
    "Run purification TEBD and measure magnetization on each site, both by contracting the tensor network (really by using orthogonality conditions to avoid most of the work) or sampling."
   ]
  },
  {
   "cell_type": "code",
   "execution_count": 3,
   "id": "58a7e566-a94f-4b91-8f97-3f3cb4f25d2b",
   "metadata": {},
   "outputs": [],
   "source": [
    "def imag_tebd(L=30, beta_max=3., dt=0.05, order=2, bc=\"finite\", num_samples=1000, chi_max=100, sample_all=True):\n",
    "    model_params = dict(L=L, J=1., g=1.2)\n",
    "    M = TFIChain(model_params)\n",
    "    psi = PurificationMPS.from_infiniteT(M.lat.mps_sites(), bc=bc)\n",
    "    options = {\n",
    "        'trunc_params': {\n",
    "            'chi_max': chi_max,\n",
    "            'svd_min': 1.e-8\n",
    "        },\n",
    "        'order': order,\n",
    "        'dt': dt,\n",
    "        'N_steps': 1\n",
    "    }\n",
    "    beta = 0.\n",
    "    eng = PurificationTEBD(psi, M, options)\n",
    "    Szs = [psi.expectation_value(\"Sz\")]\n",
    "    Szs_sample_sq, Szs_sample_nsq, sampling_time_sq, sampling_time_nsq = [], [], [], []\n",
    "    if sample_all:\n",
    "        sample_data = sample_purification(psi, num_samples)\n",
    "        Szs_sample_sq.append(sample_data[0][0])\n",
    "        Szs_sample_nsq.append(sample_data[1][0])\n",
    "        sampling_time_sq.append(sample_data[0][2])\n",
    "        sampling_time_nsq.append(sample_data[1][2])\n",
    "    betas = [0.]\n",
    "    psis = [psi.copy()]\n",
    "    while beta < beta_max:\n",
    "        beta += 2. * dt  # factor of 2:  |psi> ~= exp^{- dt H}, but rho = |psi><psi|\n",
    "        betas.append(beta)\n",
    "        eng.run_imaginary(dt)  # cool down by dt\n",
    "        Szs.append(psi.expectation_value(\"Sz\"))  # and further measurements...\n",
    "        if sample_all or np.isclose(beta, beta_max):\n",
    "            print(psi.chi)\n",
    "            sample_data = sample_purification(psi, num_samples)\n",
    "            Szs_sample_sq.append(sample_data[0][0])\n",
    "            Szs_sample_nsq.append(sample_data[1][0])\n",
    "            sampling_time_sq.append(sample_data[0][2])\n",
    "            sampling_time_nsq.append(sample_data[1][2])\n",
    "        psis.append(psi.copy())\n",
    "    return {'beta': betas, 'Sz': Szs, 'Sz_sample_sq': Szs_sample_sq, 'Sz_sample_nsq': Szs_sample_nsq, \n",
    "            'time_sq': sampling_time_sq, 'time_nsq': sampling_time_nsq, \n",
    "            'psi': psis}"
   ]
  },
  {
   "cell_type": "markdown",
   "id": "edf84aca-e1c6-4467-bd66-588ab5883724",
   "metadata": {},
   "source": [
    "Below we repeatedly sample a purification MPS to determine the magnetization. Depending on the value of `sample_q`, we either sample the ancilla leg (`True`) or contract over it (`False`). The first is cheaper than the latter, with a cost of $\\mathcal{}(\\chi^2)$ compared to $\\mathcal{}(\\chi^3)$."
   ]
  },
  {
   "cell_type": "code",
   "execution_count": 4,
   "id": "d3a7e9b7-c327-4791-a56c-0620bddd0786",
   "metadata": {},
   "outputs": [],
   "source": [
    "def sample_purification(psi, num_samples):\n",
    "    data = []\n",
    "    for sample_q in [True, False]:\n",
    "        magnetization = []\n",
    "        start_time = time()\n",
    "        for i in range(num_samples):\n",
    "            sigmas, total_prob = psi.sample_measurements(sample_q, complex_amplitude=False)\n",
    "            magnetization.append(np.array(sigmas) - 1/2) # 1 index corresponds to spin up I guess\n",
    "        sample_time = time() - start_time\n",
    "        magnetization = np.row_stack(magnetization)\n",
    "        data.append((magnetization.mean(axis=0), magnetization, sample_time / num_samples))\n",
    "    return data"
   ]
  },
  {
   "cell_type": "markdown",
   "id": "3e3a4d77-ab81-4a6e-96cd-a3dba89658b7",
   "metadata": {},
   "source": [
    "## Average magnetization as a function of $\\beta$"
   ]
  },
  {
   "cell_type": "code",
   "execution_count": 5,
   "id": "02838f00-fa8a-4373-8900-b648cb9a9158",
   "metadata": {
    "scrolled": true
   },
   "outputs": [
    {
     "name": "stderr",
     "output_type": "stream",
     "text": [
      "INFO:tenpy.tools.params:TFIChain: reading 'L'=30\n",
      "INFO:tenpy.tools.params:TFIChain: reading 'J'=1.0\n",
      "INFO:tenpy.tools.params:TFIChain: reading 'g'=1.2\n",
      "INFO:tenpy.tools.params:PurificationTEBD: subconfig 'trunc_params'=Config(<2 options>, 'trunc_params')\n",
      "INFO:tenpy.tools.params:PurificationTEBD: reading 'dt'=0.05\n",
      "INFO:tenpy.algorithms.tebd:Calculate U for {'order': 2, 'delta_t': 0.05, 'type_evo': 'imag', 'E_offset': None, 'tau': -0.05j}\n",
      "INFO:tenpy.tools.params:trunc_params: reading 'chi_max'=100\n",
      "INFO:tenpy.tools.params:trunc_params: reading 'svd_min'=1e-08\n",
      "INFO:tenpy.algorithms.purification:--> beta=0.050000, E_bond=-0.2460708907, max(S)=0.0172500676\n"
     ]
    },
    {
     "name": "stdout",
     "output_type": "stream",
     "text": [
      "[4, 4, 4, 4, 4, 4, 4, 4, 4, 4, 4, 4, 4, 4, 4, 4, 4, 4, 4, 4, 4, 4, 4, 4, 4, 4, 4, 4, 4]\n"
     ]
    },
    {
     "name": "stderr",
     "output_type": "stream",
     "text": [
      "INFO:tenpy.algorithms.purification:--> beta=0.100000, E_bond=-0.4756494810, max(S)=0.0532230133\n"
     ]
    },
    {
     "name": "stdout",
     "output_type": "stream",
     "text": [
      "[4, 6, 6, 6, 6, 6, 6, 6, 6, 6, 6, 6, 6, 6, 6, 6, 6, 6, 6, 6, 6, 6, 6, 6, 6, 6, 6, 6, 4]\n"
     ]
    },
    {
     "name": "stderr",
     "output_type": "stream",
     "text": [
      "INFO:tenpy.algorithms.purification:--> beta=0.150000, E_bond=-0.6767971387, max(S)=0.0967049734\n"
     ]
    },
    {
     "name": "stdout",
     "output_type": "stream",
     "text": [
      "[4, 6, 6, 6, 6, 6, 6, 6, 6, 6, 6, 6, 6, 6, 6, 6, 6, 6, 6, 6, 6, 6, 6, 6, 6, 6, 6, 6, 4]\n"
     ]
    },
    {
     "name": "stderr",
     "output_type": "stream",
     "text": [
      "INFO:tenpy.algorithms.purification:--> beta=0.200000, E_bond=-0.8441540463, max(S)=0.1411322525\n"
     ]
    },
    {
     "name": "stdout",
     "output_type": "stream",
     "text": [
      "[4, 7, 7, 7, 7, 7, 7, 7, 7, 7, 7, 7, 7, 7, 7, 7, 7, 7, 7, 7, 7, 7, 7, 7, 7, 7, 7, 7, 4]\n"
     ]
    },
    {
     "name": "stderr",
     "output_type": "stream",
     "text": [
      "INFO:tenpy.algorithms.purification:--> beta=0.250000, E_bond=-0.9781014310, max(S)=0.1827168026\n"
     ]
    },
    {
     "name": "stdout",
     "output_type": "stream",
     "text": [
      "[4, 9, 9, 9, 9, 9, 9, 9, 9, 9, 9, 9, 9, 9, 9, 9, 9, 9, 9, 9, 9, 9, 9, 9, 9, 9, 9, 9, 4]\n"
     ]
    },
    {
     "name": "stderr",
     "output_type": "stream",
     "text": [
      "INFO:tenpy.algorithms.purification:--> beta=0.300000, E_bond=-1.0825193832, max(S)=0.2197692357\n"
     ]
    },
    {
     "name": "stdout",
     "output_type": "stream",
     "text": [
      "[4, 10, 10, 10, 10, 10, 10, 10, 10, 10, 10, 10, 10, 10, 10, 10, 10, 10, 10, 10, 10, 10, 10, 10, 10, 10, 10, 10, 4]\n"
     ]
    },
    {
     "name": "stderr",
     "output_type": "stream",
     "text": [
      "INFO:tenpy.algorithms.purification:--> beta=0.350000, E_bond=-1.1626430338, max(S)=0.2518978714\n"
     ]
    },
    {
     "name": "stdout",
     "output_type": "stream",
     "text": [
      "[4, 10, 10, 10, 10, 10, 10, 10, 10, 10, 10, 10, 10, 10, 10, 10, 10, 10, 10, 10, 10, 10, 10, 10, 10, 10, 10, 10, 4]\n"
     ]
    },
    {
     "name": "stderr",
     "output_type": "stream",
     "text": [
      "INFO:tenpy.algorithms.purification:--> beta=0.400000, E_bond=-1.2236704021, max(S)=0.2793931954\n"
     ]
    },
    {
     "name": "stdout",
     "output_type": "stream",
     "text": [
      "[4, 10, 10, 10, 10, 10, 10, 10, 10, 10, 10, 10, 10, 10, 10, 10, 10, 10, 10, 10, 10, 10, 10, 10, 10, 10, 10, 11, 4]\n"
     ]
    },
    {
     "name": "stderr",
     "output_type": "stream",
     "text": [
      "INFO:tenpy.algorithms.purification:--> beta=0.450000, E_bond=-1.2701012984, max(S)=0.3028286284\n"
     ]
    },
    {
     "name": "stdout",
     "output_type": "stream",
     "text": [
      "[4, 11, 11, 11, 11, 11, 11, 11, 11, 11, 11, 11, 11, 11, 11, 11, 11, 11, 11, 11, 11, 11, 11, 11, 11, 11, 11, 11, 4]\n"
     ]
    },
    {
     "name": "stderr",
     "output_type": "stream",
     "text": [
      "INFO:tenpy.algorithms.purification:--> beta=0.500000, E_bond=-1.3055507972, max(S)=0.3228394786\n"
     ]
    },
    {
     "name": "stdout",
     "output_type": "stream",
     "text": [
      "[4, 12, 12, 12, 12, 12, 12, 12, 12, 12, 12, 12, 12, 12, 12, 12, 12, 12, 12, 12, 12, 12, 12, 12, 12, 12, 12, 12, 4]\n"
     ]
    },
    {
     "name": "stderr",
     "output_type": "stream",
     "text": [
      "INFO:tenpy.algorithms.purification:--> beta=0.550000, E_bond=-1.3328003341, max(S)=0.3400180953\n"
     ]
    },
    {
     "name": "stdout",
     "output_type": "stream",
     "text": [
      "[4, 12, 13, 13, 13, 13, 13, 13, 13, 13, 13, 13, 13, 13, 13, 13, 13, 13, 13, 13, 13, 13, 13, 13, 13, 13, 13, 12, 4]\n"
     ]
    },
    {
     "name": "stderr",
     "output_type": "stream",
     "text": [
      "INFO:tenpy.algorithms.purification:--> beta=0.600000, E_bond=-1.3539370350, max(S)=0.3548744861\n"
     ]
    },
    {
     "name": "stdout",
     "output_type": "stream",
     "text": [
      "[4, 12, 13, 13, 13, 13, 13, 13, 13, 13, 13, 13, 13, 13, 13, 13, 13, 13, 13, 13, 13, 13, 13, 13, 13, 13, 13, 12, 4]\n"
     ]
    },
    {
     "name": "stderr",
     "output_type": "stream",
     "text": [
      "INFO:tenpy.algorithms.purification:--> beta=0.650000, E_bond=-1.3705056888, max(S)=0.3678296985\n"
     ]
    },
    {
     "name": "stdout",
     "output_type": "stream",
     "text": [
      "[4, 12, 14, 14, 14, 14, 14, 14, 14, 14, 14, 14, 14, 14, 14, 14, 14, 14, 14, 14, 14, 14, 14, 14, 14, 14, 14, 12, 4]\n"
     ]
    },
    {
     "name": "stderr",
     "output_type": "stream",
     "text": [
      "INFO:tenpy.algorithms.purification:--> beta=0.700000, E_bond=-1.3836424298, max(S)=0.3792235056\n"
     ]
    },
    {
     "name": "stdout",
     "output_type": "stream",
     "text": [
      "[4, 13, 15, 15, 15, 15, 15, 15, 15, 15, 15, 15, 15, 15, 15, 15, 15, 15, 15, 15, 15, 15, 15, 15, 15, 15, 15, 13, 4]\n"
     ]
    },
    {
     "name": "stderr",
     "output_type": "stream",
     "text": [
      "INFO:tenpy.algorithms.purification:--> beta=0.750000, E_bond=-1.3941816805, max(S)=0.3893269224\n"
     ]
    },
    {
     "name": "stdout",
     "output_type": "stream",
     "text": [
      "[4, 13, 15, 15, 15, 15, 15, 15, 15, 15, 15, 15, 15, 15, 15, 15, 15, 15, 15, 15, 15, 15, 15, 15, 15, 15, 15, 13, 4]\n"
     ]
    },
    {
     "name": "stderr",
     "output_type": "stream",
     "text": [
      "INFO:tenpy.algorithms.purification:--> beta=0.800000, E_bond=-1.4027375341, max(S)=0.3983551258\n"
     ]
    },
    {
     "name": "stdout",
     "output_type": "stream",
     "text": [
      "[4, 14, 16, 16, 17, 17, 17, 17, 17, 17, 17, 17, 17, 17, 17, 17, 17, 17, 17, 17, 17, 17, 17, 17, 17, 16, 16, 14, 4]\n"
     ]
    },
    {
     "name": "stderr",
     "output_type": "stream",
     "text": [
      "INFO:tenpy.algorithms.purification:--> beta=0.850000, E_bond=-1.4097639705, max(S)=0.4064789719\n"
     ]
    },
    {
     "name": "stdout",
     "output_type": "stream",
     "text": [
      "[4, 14, 17, 17, 17, 17, 17, 17, 17, 17, 17, 17, 17, 17, 17, 17, 17, 17, 17, 17, 17, 17, 17, 17, 17, 17, 17, 14, 4]\n"
     ]
    },
    {
     "name": "stderr",
     "output_type": "stream",
     "text": [
      "INFO:tenpy.algorithms.purification:--> beta=0.900000, E_bond=-1.4155987119, max(S)=0.4138345776\n"
     ]
    },
    {
     "name": "stdout",
     "output_type": "stream",
     "text": [
      "[4, 14, 17, 17, 18, 18, 18, 18, 18, 18, 18, 18, 18, 18, 18, 18, 18, 18, 18, 18, 18, 18, 18, 18, 18, 17, 17, 14, 4]\n"
     ]
    },
    {
     "name": "stderr",
     "output_type": "stream",
     "text": [
      "INFO:tenpy.algorithms.purification:--> beta=0.950000, E_bond=-1.4204948992, max(S)=0.4205309982\n"
     ]
    },
    {
     "name": "stdout",
     "output_type": "stream",
     "text": [
      "[4, 15, 19, 19, 19, 19, 19, 19, 19, 19, 19, 19, 19, 19, 19, 19, 19, 19, 19, 19, 19, 19, 19, 19, 19, 19, 19, 15, 4]\n"
     ]
    },
    {
     "name": "stderr",
     "output_type": "stream",
     "text": [
      "INFO:tenpy.algorithms.purification:--> beta=1.000000, E_bond=-1.4246438890, max(S)=0.4266562471\n"
     ]
    },
    {
     "name": "stdout",
     "output_type": "stream",
     "text": [
      "[4, 15, 19, 19, 19, 19, 19, 19, 19, 19, 19, 19, 19, 19, 19, 19, 19, 19, 19, 19, 19, 19, 19, 19, 19, 19, 19, 15, 4]\n"
     ]
    },
    {
     "name": "stderr",
     "output_type": "stream",
     "text": [
      "INFO:tenpy.algorithms.purification:--> beta=1.050000, E_bond=-1.4281916571, max(S)=0.4322819578\n"
     ]
    },
    {
     "name": "stdout",
     "output_type": "stream",
     "text": [
      "[4, 16, 21, 21, 21, 21, 21, 21, 21, 21, 21, 21, 21, 21, 21, 21, 21, 21, 21, 21, 21, 21, 21, 21, 21, 21, 21, 15, 4]\n"
     ]
    },
    {
     "name": "stderr",
     "output_type": "stream",
     "text": [
      "INFO:tenpy.algorithms.purification:--> beta=1.100000, E_bond=-1.4312506260, max(S)=0.4374669712\n"
     ]
    },
    {
     "name": "stdout",
     "output_type": "stream",
     "text": [
      "[4, 16, 21, 21, 21, 21, 21, 21, 21, 21, 21, 21, 21, 21, 21, 21, 21, 21, 21, 21, 21, 21, 21, 21, 21, 21, 21, 16, 4]\n"
     ]
    },
    {
     "name": "stderr",
     "output_type": "stream",
     "text": [
      "INFO:tenpy.algorithms.purification:--> beta=1.150000, E_bond=-1.4339082234, max(S)=0.4422600875\n"
     ]
    },
    {
     "name": "stdout",
     "output_type": "stream",
     "text": [
      "[4, 16, 21, 21, 21, 21, 21, 21, 21, 21, 21, 21, 21, 21, 21, 21, 21, 21, 21, 21, 21, 21, 21, 21, 21, 21, 21, 16, 4]\n"
     ]
    },
    {
     "name": "stderr",
     "output_type": "stream",
     "text": [
      "INFO:tenpy.algorithms.purification:--> beta=1.200000, E_bond=-1.4362331074, max(S)=0.4467021777\n"
     ]
    },
    {
     "name": "stdout",
     "output_type": "stream",
     "text": [
      "[4, 16, 22, 23, 23, 23, 23, 23, 23, 23, 23, 23, 23, 23, 23, 23, 23, 23, 23, 23, 23, 23, 23, 23, 23, 23, 22, 16, 4]\n"
     ]
    },
    {
     "name": "stderr",
     "output_type": "stream",
     "text": [
      "INFO:tenpy.algorithms.purification:--> beta=1.250000, E_bond=-1.4382797204, max(S)=0.4508278067\n"
     ]
    },
    {
     "name": "stdout",
     "output_type": "stream",
     "text": [
      "[4, 16, 23, 23, 23, 23, 23, 23, 23, 23, 23, 23, 23, 23, 23, 23, 23, 23, 23, 23, 23, 23, 23, 23, 23, 23, 23, 16, 4]\n"
     ]
    },
    {
     "name": "stderr",
     "output_type": "stream",
     "text": [
      "INFO:tenpy.algorithms.purification:--> beta=1.300000, E_bond=-1.4400916437, max(S)=0.4546664848\n"
     ]
    },
    {
     "name": "stdout",
     "output_type": "stream",
     "text": [
      "[4, 16, 23, 23, 23, 23, 23, 23, 23, 23, 23, 23, 23, 23, 23, 23, 23, 23, 23, 23, 23, 23, 23, 23, 23, 23, 23, 16, 4]\n"
     ]
    },
    {
     "name": "stderr",
     "output_type": "stream",
     "text": [
      "INFO:tenpy.algorithms.purification:--> beta=1.350000, E_bond=-1.4417040858, max(S)=0.4582436383\n"
     ]
    },
    {
     "name": "stdout",
     "output_type": "stream",
     "text": [
      "[4, 16, 23, 24, 24, 24, 24, 24, 24, 24, 24, 24, 24, 24, 24, 24, 24, 24, 24, 24, 24, 24, 24, 24, 24, 24, 23, 16, 4]\n"
     ]
    },
    {
     "name": "stderr",
     "output_type": "stream",
     "text": [
      "INFO:tenpy.algorithms.purification:--> beta=1.400000, E_bond=-1.4431457429, max(S)=0.4615813653\n"
     ]
    },
    {
     "name": "stdout",
     "output_type": "stream",
     "text": [
      "[4, 16, 25, 25, 25, 25, 25, 25, 25, 25, 25, 25, 25, 25, 25, 25, 25, 25, 25, 25, 25, 25, 25, 25, 25, 25, 25, 16, 4]\n"
     ]
    },
    {
     "name": "stderr",
     "output_type": "stream",
     "text": [
      "INFO:tenpy.algorithms.purification:--> beta=1.450000, E_bond=-1.4444402010, max(S)=0.4646990279\n"
     ]
    },
    {
     "name": "stdout",
     "output_type": "stream",
     "text": [
      "[4, 16, 25, 25, 25, 25, 25, 25, 25, 25, 25, 25, 25, 25, 25, 25, 25, 25, 25, 25, 25, 25, 25, 25, 25, 25, 25, 16, 4]\n"
     ]
    },
    {
     "name": "stderr",
     "output_type": "stream",
     "text": [
      "INFO:tenpy.algorithms.purification:--> beta=1.500000, E_bond=-1.4456070009, max(S)=0.4676137204\n"
     ]
    },
    {
     "name": "stdout",
     "output_type": "stream",
     "text": [
      "[4, 16, 25, 25, 25, 25, 25, 25, 25, 25, 25, 25, 25, 25, 25, 25, 25, 25, 25, 25, 25, 25, 25, 25, 25, 25, 25, 16, 4]\n"
     ]
    }
   ],
   "source": [
    "import logging\n",
    "logging.basicConfig(level=logging.INFO)\n",
    "data_tebd = imag_tebd(L=30, beta_max=3.0, num_samples=50)"
   ]
  },
  {
   "cell_type": "markdown",
   "id": "0bca56ba-85f3-4960-9ea8-60f7a32888d1",
   "metadata": {},
   "source": [
    "Now let's plot the magnetization as a function of $\\beta$. We see that the measurements from sampling agree with those from exact contraction."
   ]
  },
  {
   "cell_type": "code",
   "execution_count": 6,
   "id": "e52aaab4-e840-45dc-a4f7-ac9c678eff0a",
   "metadata": {},
   "outputs": [
    {
     "name": "stderr",
     "output_type": "stream",
     "text": [
      "/home/sajant/tenpy/tenpy/tools/params.py:232: UserWarning: unused options for config PurificationTEBD:\n",
      "['N_steps', 'order']\n",
      "  warnings.warn(msg.format(keys=sorted(unused), name=self.name))\n"
     ]
    },
    {
     "data": {
      "image/png": "[encoded data removed]",
      "text/plain": [
       "<Figure size 640x480 with 1 Axes>"
      ]
     },
     "metadata": {},
     "output_type": "display_data"
    }
   ],
   "source": [
    "import numpy as np\n",
    "import matplotlib.pyplot as plt\n",
    "\n",
    "plt.plot(data_tebd['beta'], np.sum(data_tebd['Sz'], axis=1), label='TEBD')\n",
    "plt.plot(data_tebd['beta'], np.sum(data_tebd['Sz_sample_sq'], axis=1), '.', label='TEBD; sampling q')\n",
    "plt.plot(data_tebd['beta'], np.sum(data_tebd['Sz_sample_nsq'], axis=1), '.', label='TEBD; tracing q')\n",
    "\n",
    "plt.legend()\n",
    "plt.xlabel(r'$\\beta$')\n",
    "plt.ylabel(r'total $S^z$')\n",
    "plt.show()"
   ]
  },
  {
   "cell_type": "markdown",
   "id": "9e0b9369-ab52-46ab-a784-4cc611721aea",
   "metadata": {},
   "source": [
    "Now we look at sampling time as a function of $\\beta$. We expect this to be independent of $\\beta$ and only dependent on $\\chi$."
   ]
  },
  {
   "cell_type": "code",
   "execution_count": 7,
   "id": "e438e48c-593b-4d22-bca7-b921a713bdd0",
   "metadata": {},
   "outputs": [
    {
     "data": {
      "image/png": "[encoded data removed]",
      "text/plain": [
       "<Figure size 640x480 with 1 Axes>"
      ]
     },
     "metadata": {},
     "output_type": "display_data"
    }
   ],
   "source": [
    "plt.plot(data_tebd['beta'], data_tebd['time_sq'], '.', label='TEBD; sampling q')\n",
    "plt.plot(data_tebd['beta'], data_tebd['time_nsq'], '.', label='TEBD; tracing q')\n",
    "\n",
    "plt.legend()\n",
    "plt.xlabel(r'$\\beta$')\n",
    "plt.ylabel(r'Sampling Time')\n",
    "plt.show()"
   ]
  },
  {
   "cell_type": "markdown",
   "id": "35821e01-ef39-48bf-86b5-876d8feaa53a",
   "metadata": {},
   "source": [
    "## Sampling time dependence on chi"
   ]
  },
  {
   "cell_type": "code",
   "execution_count": 8,
   "id": "6cc1da7d-8e0a-4c9f-947a-b13a3c0e3ced",
   "metadata": {
    "scrolled": true
   },
   "outputs": [
    {
     "name": "stderr",
     "output_type": "stream",
     "text": [
      "INFO:tenpy.tools.params:TFIChain: reading 'L'=30\n",
      "INFO:tenpy.tools.params:TFIChain: reading 'J'=1.0\n",
      "INFO:tenpy.tools.params:TFIChain: reading 'g'=1.2\n",
      "INFO:tenpy.tools.params:PurificationTEBD: subconfig 'trunc_params'=Config(<2 options>, 'trunc_params')\n",
      "INFO:tenpy.tools.params:PurificationTEBD: reading 'dt'=0.05\n",
      "INFO:tenpy.algorithms.tebd:Calculate U for {'order': 2, 'delta_t': 0.05, 'type_evo': 'imag', 'E_offset': None, 'tau': -0.05j}\n",
      "INFO:tenpy.tools.params:trunc_params: reading 'chi_max'=2\n",
      "INFO:tenpy.tools.params:trunc_params: reading 'svd_min'=1e-08\n",
      "INFO:tenpy.algorithms.purification:--> beta=0.050000, E_bond=-0.2460704684, max(S)=0.0172499542\n",
      "INFO:tenpy.algorithms.purification:--> beta=0.100000, E_bond=-0.4756295855, max(S)=0.0532187236\n",
      "INFO:tenpy.algorithms.purification:--> beta=0.150000, E_bond=-0.6766525889, max(S)=0.0966746449\n",
      "INFO:tenpy.algorithms.purification:--> beta=0.200000, E_bond=-0.8436355045, max(S)=0.1410008935\n",
      "INFO:tenpy.algorithms.purification:--> beta=0.250000, E_bond=-0.9768282106, max(S)=0.1823408159\n",
      "INFO:tenpy.algorithms.purification:--> beta=0.300000, E_bond=-1.0800497086, max(S)=0.2189349620\n",
      "INFO:tenpy.algorithms.purification:--> beta=0.350000, E_bond=-1.1585539424, max(S)=0.2503366410\n",
      "INFO:tenpy.algorithms.purification:--> beta=0.400000, E_bond=-1.2176145022, max(S)=0.2768028450\n",
      "INFO:tenpy.algorithms.purification:--> beta=0.450000, E_bond=-1.2618331065, max(S)=0.2988946378\n",
      "INFO:tenpy.algorithms.purification:--> beta=0.500000, E_bond=-1.2949295484, max(S)=0.3172523022\n",
      "INFO:tenpy.algorithms.purification:--> beta=0.550000, E_bond=-1.3197791128, max(S)=0.3324856739\n",
      "INFO:tenpy.algorithms.purification:--> beta=0.600000, E_bond=-1.3385459894, max(S)=0.3451301838\n",
      "INFO:tenpy.algorithms.purification:--> beta=0.650000, E_bond=-1.3528341236, max(S)=0.3556364310\n",
      "INFO:tenpy.algorithms.purification:--> beta=0.700000, E_bond=-1.3638222698, max(S)=0.3643749599\n",
      "INFO:tenpy.algorithms.purification:--> beta=0.750000, E_bond=-1.3723733559, max(S)=0.3716467144\n",
      "INFO:tenpy.algorithms.purification:--> beta=0.800000, E_bond=-1.3791185376, max(S)=0.3776946110\n",
      "INFO:tenpy.algorithms.purification:--> beta=0.850000, E_bond=-1.3845199431, max(S)=0.3827142764\n",
      "INFO:tenpy.algorithms.purification:--> beta=0.900000, E_bond=-1.3889167423, max(S)=0.3868632701\n",
      "INFO:tenpy.algorithms.purification:--> beta=0.950000, E_bond=-1.3925586707, max(S)=0.3902687015\n",
      "INFO:tenpy.algorithms.purification:--> beta=1.000000, E_bond=-1.3956303182, max(S)=0.3930333886\n",
      "INFO:tenpy.algorithms.purification:--> beta=1.050000, E_bond=-1.3982687029, max(S)=0.3952407804\n",
      "INFO:tenpy.algorithms.purification:--> beta=1.100000, E_bond=-1.4005759943, max(S)=0.3969588716\n",
      "INFO:tenpy.algorithms.purification:--> beta=1.150000, E_bond=-1.4026287395, max(S)=0.3982433085\n",
      "INFO:tenpy.algorithms.purification:--> beta=1.200000, E_bond=-1.4044845733, max(S)=0.3991398545\n",
      "INFO:tenpy.algorithms.purification:--> beta=1.250000, E_bond=-1.4061871111, max(S)=0.3996863519\n",
      "INFO:tenpy.algorithms.purification:--> beta=1.300000, E_bond=-1.4077695311, max(S)=0.3999142853\n",
      "INFO:tenpy.algorithms.purification:--> beta=1.350000, E_bond=-1.4092572046, max(S)=0.3998500337\n",
      "INFO:tenpy.algorithms.purification:--> beta=1.400000, E_bond=-1.4106696360, max(S)=0.3995158765\n",
      "INFO:tenpy.algorithms.purification:--> beta=1.450000, E_bond=-1.4120218982, max(S)=0.3989308037\n",
      "INFO:tenpy.algorithms.purification:--> beta=1.500000, E_bond=-1.4133256987, max(S)=0.3981111736\n"
     ]
    },
    {
     "name": "stdout",
     "output_type": "stream",
     "text": [
      "[2, 2, 2, 2, 2, 2, 2, 2, 2, 2, 2, 2, 2, 2, 2, 2, 2, 2, 2, 2, 2, 2, 2, 2, 2, 2, 2, 2, 2]\n"
     ]
    },
    {
     "name": "stderr",
     "output_type": "stream",
     "text": [
      "INFO:tenpy.tools.params:TFIChain: reading 'L'=30\n",
      "INFO:tenpy.tools.params:TFIChain: reading 'J'=1.0\n",
      "INFO:tenpy.tools.params:TFIChain: reading 'g'=1.2\n",
      "INFO:tenpy.tools.params:PurificationTEBD: subconfig 'trunc_params'=Config(<2 options>, 'trunc_params')\n",
      "INFO:tenpy.tools.params:PurificationTEBD: reading 'dt'=0.05\n",
      "INFO:tenpy.algorithms.tebd:Calculate U for {'order': 2, 'delta_t': 0.05, 'type_evo': 'imag', 'E_offset': None, 'tau': -0.05j}\n",
      "INFO:tenpy.tools.params:trunc_params: reading 'chi_max'=4\n",
      "INFO:tenpy.tools.params:trunc_params: reading 'svd_min'=1e-08\n",
      "INFO:tenpy.algorithms.purification:--> beta=0.050000, E_bond=-0.2460708907, max(S)=0.0172500676\n",
      "INFO:tenpy.algorithms.purification:--> beta=0.100000, E_bond=-0.4756494809, max(S)=0.0532230133\n",
      "INFO:tenpy.algorithms.purification:--> beta=0.150000, E_bond=-0.6767971354, max(S)=0.0967049716\n",
      "INFO:tenpy.algorithms.purification:--> beta=0.200000, E_bond=-0.8441540073, max(S)=0.1411322267\n",
      "INFO:tenpy.algorithms.purification:--> beta=0.250000, E_bond=-0.9781012074, max(S)=0.1827166245\n",
      "INFO:tenpy.algorithms.purification:--> beta=0.300000, E_bond=-1.0825185679, max(S)=0.2197684742\n",
      "INFO:tenpy.algorithms.purification:--> beta=0.350000, E_bond=-1.1626408176, max(S)=0.2518954752\n",
      "INFO:tenpy.algorithms.purification:--> beta=0.400000, E_bond=-1.2236654898, max(S)=0.2793871022\n",
      "INFO:tenpy.algorithms.purification:--> beta=0.450000, E_bond=-1.2700919103, max(S)=0.3028153664\n",
      "INFO:tenpy.algorithms.purification:--> beta=0.500000, E_bond=-1.3055347414, max(S)=0.3228138181\n",
      "INFO:tenpy.algorithms.purification:--> beta=0.550000, E_bond=-1.3327751177, max(S)=0.3399727867\n",
      "INFO:tenpy.algorithms.purification:--> beta=0.600000, E_bond=-1.3538999884, max(S)=0.3548001033\n",
      "INFO:tenpy.algorithms.purification:--> beta=0.650000, E_bond=-1.3704540845, max(S)=0.3677145909\n",
      "INFO:tenpy.algorithms.purification:--> beta=0.700000, E_bond=-1.3835735866, max(S)=0.3790538537\n",
      "INFO:tenpy.algorithms.purification:--> beta=0.750000, E_bond=-1.3940930523, max(S)=0.3890868855\n",
      "INFO:tenpy.algorithms.purification:--> beta=0.800000, E_bond=-1.4026267814, max(S)=0.3980270661\n",
      "INFO:tenpy.algorithms.purification:--> beta=0.850000, E_bond=-1.4096290161, max(S)=0.4060437379\n",
      "INFO:tenpy.algorithms.purification:--> beta=0.900000, E_bond=-1.4154377814, max(S)=0.4132718286\n",
      "INFO:tenpy.algorithms.purification:--> beta=0.950000, E_bond=-1.4203065474, max(S)=0.4198195522\n",
      "INFO:tenpy.algorithms.purification:--> beta=1.000000, E_bond=-1.4244270136, max(S)=0.4257744365\n",
      "INFO:tenpy.algorithms.purification:--> beta=1.050000, E_bond=-1.4279455007, max(S)=0.4312079787\n",
      "INFO:tenpy.algorithms.purification:--> beta=1.100000, E_bond=-1.4309747678, max(S)=0.4361792156\n",
      "INFO:tenpy.algorithms.purification:--> beta=1.150000, E_bond=-1.4336025622, max(S)=0.4407374495\n",
      "INFO:tenpy.algorithms.purification:--> beta=1.200000, E_bond=-1.4358978383, max(S)=0.4449243276\n",
      "INFO:tenpy.algorithms.purification:--> beta=1.250000, E_bond=-1.4379153060, max(S)=0.4487754294\n",
      "INFO:tenpy.algorithms.purification:--> beta=1.300000, E_bond=-1.4396987828, max(S)=0.4523214816\n",
      "INFO:tenpy.algorithms.purification:--> beta=1.350000, E_bond=-1.4412836798, max(S)=0.4555892900\n",
      "INFO:tenpy.algorithms.purification:--> beta=1.400000, E_bond=-1.4426988619, max(S)=0.4586024594\n",
      "INFO:tenpy.algorithms.purification:--> beta=1.450000, E_bond=-1.4439680509, max(S)=0.4613819516\n",
      "INFO:tenpy.algorithms.purification:--> beta=1.500000, E_bond=-1.4451108922, max(S)=0.4639465212\n"
     ]
    },
    {
     "name": "stdout",
     "output_type": "stream",
     "text": [
      "[4, 4, 4, 4, 4, 4, 4, 4, 4, 4, 4, 4, 4, 4, 4, 4, 4, 4, 4, 4, 4, 4, 4, 4, 4, 4, 4, 4, 4]\n"
     ]
    },
    {
     "name": "stderr",
     "output_type": "stream",
     "text": [
      "INFO:tenpy.tools.params:TFIChain: reading 'L'=30\n",
      "INFO:tenpy.tools.params:TFIChain: reading 'J'=1.0\n",
      "INFO:tenpy.tools.params:TFIChain: reading 'g'=1.2\n",
      "INFO:tenpy.tools.params:PurificationTEBD: subconfig 'trunc_params'=Config(<2 options>, 'trunc_params')\n",
      "INFO:tenpy.tools.params:PurificationTEBD: reading 'dt'=0.05\n",
      "INFO:tenpy.algorithms.tebd:Calculate U for {'order': 2, 'delta_t': 0.05, 'type_evo': 'imag', 'E_offset': None, 'tau': -0.05j}\n",
      "INFO:tenpy.tools.params:trunc_params: reading 'chi_max'=8\n",
      "INFO:tenpy.tools.params:trunc_params: reading 'svd_min'=1e-08\n",
      "INFO:tenpy.algorithms.purification:--> beta=0.050000, E_bond=-0.2460708907, max(S)=0.0172500676\n",
      "INFO:tenpy.algorithms.purification:--> beta=0.100000, E_bond=-0.4756494810, max(S)=0.0532230133\n",
      "INFO:tenpy.algorithms.purification:--> beta=0.150000, E_bond=-0.6767971387, max(S)=0.0967049734\n",
      "INFO:tenpy.algorithms.purification:--> beta=0.200000, E_bond=-0.8441540463, max(S)=0.1411322525\n",
      "INFO:tenpy.algorithms.purification:--> beta=0.250000, E_bond=-0.9781014308, max(S)=0.1827168024\n",
      "INFO:tenpy.algorithms.purification:--> beta=0.300000, E_bond=-1.0825193810, max(S)=0.2197692330\n",
      "INFO:tenpy.algorithms.purification:--> beta=0.350000, E_bond=-1.1626430248, max(S)=0.2518978586\n",
      "INFO:tenpy.algorithms.purification:--> beta=0.400000, E_bond=-1.2236703781, max(S)=0.2793931551\n",
      "INFO:tenpy.algorithms.purification:--> beta=0.450000, E_bond=-1.2701012469, max(S)=0.3028285287\n",
      "INFO:tenpy.algorithms.purification:--> beta=0.500000, E_bond=-1.3055507023, max(S)=0.3228392682\n",
      "INFO:tenpy.algorithms.purification:--> beta=0.550000, E_bond=-1.3328001762, max(S)=0.3400176995\n",
      "INFO:tenpy.algorithms.purification:--> beta=0.600000, E_bond=-1.3539367912, max(S)=0.3548738039\n",
      "INFO:tenpy.algorithms.purification:--> beta=0.650000, E_bond=-1.3705053320, max(S)=0.3678285994\n",
      "INFO:tenpy.algorithms.purification:--> beta=0.700000, E_bond=-1.3836419271, max(S)=0.3792218274\n",
      "INFO:tenpy.algorithms.purification:--> beta=0.750000, E_bond=-1.3941809928, max(S)=0.3893244680\n",
      "INFO:tenpy.algorithms.purification:--> beta=0.800000, E_bond=-1.4027366149, max(S)=0.3983516592\n",
      "INFO:tenpy.algorithms.purification:--> beta=0.850000, E_bond=-1.4097627652, max(S)=0.4064742140\n",
      "INFO:tenpy.algorithms.purification:--> beta=0.900000, E_bond=-1.4155971581, max(S)=0.4138282015\n",
      "INFO:tenpy.algorithms.purification:--> beta=0.950000, E_bond=-1.4204929266, max(S)=0.4205226238\n",
      "INFO:tenpy.algorithms.purification:--> beta=1.000000, E_bond=-1.4246414203, max(S)=0.4266454364\n",
      "INFO:tenpy.algorithms.purification:--> beta=1.050000, E_bond=-1.4281886096, max(S)=0.4322682107\n",
      "INFO:tenpy.algorithms.purification:--> beta=1.100000, E_bond=-1.4312469127, max(S)=0.4374497211\n",
      "INFO:tenpy.algorithms.purification:--> beta=1.150000, E_bond=-1.4339037547, max(S)=0.4422386982\n",
      "INFO:tenpy.algorithms.purification:--> beta=1.200000, E_bond=-1.4362277928, max(S)=0.4466759411\n",
      "INFO:tenpy.algorithms.purification:--> beta=1.250000, E_bond=-1.4382734699, max(S)=0.4507959412\n",
      "INFO:tenpy.algorithms.purification:--> beta=1.300000, E_bond=-1.4400843695, max(S)=0.4546281348\n",
      "INFO:tenpy.algorithms.purification:--> beta=1.350000, E_bond=-1.4416957037, max(S)=0.4581978748\n",
      "INFO:tenpy.algorithms.purification:--> beta=1.400000, E_bond=-1.4431361732, max(S)=0.4615271866\n",
      "INFO:tenpy.algorithms.purification:--> beta=1.450000, E_bond=-1.4444293699, max(S)=0.4646353619\n",
      "INFO:tenpy.algorithms.purification:--> beta=1.500000, E_bond=-1.4455948410, max(S)=0.4675394269\n"
     ]
    },
    {
     "name": "stdout",
     "output_type": "stream",
     "text": [
      "[4, 8, 8, 8, 8, 8, 8, 8, 8, 8, 8, 8, 8, 8, 8, 8, 8, 8, 8, 8, 8, 8, 8, 8, 8, 8, 8, 8, 4]\n"
     ]
    },
    {
     "name": "stderr",
     "output_type": "stream",
     "text": [
      "INFO:tenpy.tools.params:TFIChain: reading 'L'=30\n",
      "INFO:tenpy.tools.params:TFIChain: reading 'J'=1.0\n",
      "INFO:tenpy.tools.params:TFIChain: reading 'g'=1.2\n",
      "INFO:tenpy.tools.params:PurificationTEBD: subconfig 'trunc_params'=Config(<2 options>, 'trunc_params')\n",
      "INFO:tenpy.tools.params:PurificationTEBD: reading 'dt'=0.05\n",
      "INFO:tenpy.algorithms.tebd:Calculate U for {'order': 2, 'delta_t': 0.05, 'type_evo': 'imag', 'E_offset': None, 'tau': -0.05j}\n",
      "INFO:tenpy.tools.params:trunc_params: reading 'chi_max'=12\n",
      "INFO:tenpy.tools.params:trunc_params: reading 'svd_min'=1e-08\n",
      "INFO:tenpy.algorithms.purification:--> beta=0.050000, E_bond=-0.2460708907, max(S)=0.0172500676\n",
      "INFO:tenpy.algorithms.purification:--> beta=0.100000, E_bond=-0.4756494810, max(S)=0.0532230133\n",
      "INFO:tenpy.algorithms.purification:--> beta=0.150000, E_bond=-0.6767971387, max(S)=0.0967049734\n",
      "INFO:tenpy.algorithms.purification:--> beta=0.200000, E_bond=-0.8441540463, max(S)=0.1411322525\n",
      "INFO:tenpy.algorithms.purification:--> beta=0.250000, E_bond=-0.9781014310, max(S)=0.1827168026\n",
      "INFO:tenpy.algorithms.purification:--> beta=0.300000, E_bond=-1.0825193832, max(S)=0.2197692357\n",
      "INFO:tenpy.algorithms.purification:--> beta=0.350000, E_bond=-1.1626430338, max(S)=0.2518978714\n",
      "INFO:tenpy.algorithms.purification:--> beta=0.400000, E_bond=-1.2236704021, max(S)=0.2793931954\n",
      "INFO:tenpy.algorithms.purification:--> beta=0.450000, E_bond=-1.2701012984, max(S)=0.3028286284\n",
      "INFO:tenpy.algorithms.purification:--> beta=0.500000, E_bond=-1.3055507972, max(S)=0.3228394786\n",
      "INFO:tenpy.algorithms.purification:--> beta=0.550000, E_bond=-1.3328003341, max(S)=0.3400180953\n",
      "INFO:tenpy.algorithms.purification:--> beta=0.600000, E_bond=-1.3539370349, max(S)=0.3548744860\n",
      "INFO:tenpy.algorithms.purification:--> beta=0.650000, E_bond=-1.3705056887, max(S)=0.3678296982\n",
      "INFO:tenpy.algorithms.purification:--> beta=0.700000, E_bond=-1.3836424292, max(S)=0.3792235047\n",
      "INFO:tenpy.algorithms.purification:--> beta=0.750000, E_bond=-1.3941816790, max(S)=0.3893269208\n",
      "INFO:tenpy.algorithms.purification:--> beta=0.800000, E_bond=-1.4027375311, max(S)=0.3983551228\n",
      "INFO:tenpy.algorithms.purification:--> beta=0.850000, E_bond=-1.4097639652, max(S)=0.4064789662\n",
      "INFO:tenpy.algorithms.purification:--> beta=0.900000, E_bond=-1.4155987036, max(S)=0.4138345672\n",
      "INFO:tenpy.algorithms.purification:--> beta=0.950000, E_bond=-1.4204948869, max(S)=0.4205309799\n",
      "INFO:tenpy.algorithms.purification:--> beta=1.000000, E_bond=-1.4246438716, max(S)=0.4266562160\n",
      "INFO:tenpy.algorithms.purification:--> beta=1.050000, E_bond=-1.4281916334, max(S)=0.4322819071\n",
      "INFO:tenpy.algorithms.purification:--> beta=1.100000, E_bond=-1.4312505947, max(S)=0.4374668917\n",
      "INFO:tenpy.algorithms.purification:--> beta=1.150000, E_bond=-1.4339081830, max(S)=0.4422599668\n",
      "INFO:tenpy.algorithms.purification:--> beta=1.200000, E_bond=-1.4362330562, max(S)=0.4467019998\n",
      "INFO:tenpy.algorithms.purification:--> beta=1.250000, E_bond=-1.4382796566, max(S)=0.4508275513\n",
      "INFO:tenpy.algorithms.purification:--> beta=1.300000, E_bond=-1.4400915653, max(S)=0.4546661269\n",
      "INFO:tenpy.algorithms.purification:--> beta=1.350000, E_bond=-1.4417039908, max(S)=0.4582431474\n",
      "INFO:tenpy.algorithms.purification:--> beta=1.400000, E_bond=-1.4431456291, max(S)=0.4615807051\n",
      "INFO:tenpy.algorithms.purification:--> beta=1.450000, E_bond=-1.4444400661, max(S)=0.4646981557\n",
      "INFO:tenpy.algorithms.purification:--> beta=1.500000, E_bond=-1.4456068426, max(S)=0.4676125866\n"
     ]
    },
    {
     "name": "stdout",
     "output_type": "stream",
     "text": [
      "[4, 12, 12, 12, 12, 12, 12, 12, 12, 12, 12, 12, 12, 12, 12, 12, 12, 12, 12, 12, 12, 12, 12, 12, 12, 12, 12, 12, 4]\n"
     ]
    },
    {
     "name": "stderr",
     "output_type": "stream",
     "text": [
      "INFO:tenpy.tools.params:TFIChain: reading 'L'=30\n",
      "INFO:tenpy.tools.params:TFIChain: reading 'J'=1.0\n",
      "INFO:tenpy.tools.params:TFIChain: reading 'g'=1.2\n",
      "INFO:tenpy.tools.params:PurificationTEBD: subconfig 'trunc_params'=Config(<2 options>, 'trunc_params')\n",
      "INFO:tenpy.tools.params:PurificationTEBD: reading 'dt'=0.05\n",
      "INFO:tenpy.algorithms.tebd:Calculate U for {'order': 2, 'delta_t': 0.05, 'type_evo': 'imag', 'E_offset': None, 'tau': -0.05j}\n",
      "INFO:tenpy.tools.params:trunc_params: reading 'chi_max'=16\n",
      "INFO:tenpy.tools.params:trunc_params: reading 'svd_min'=1e-08\n",
      "INFO:tenpy.algorithms.purification:--> beta=0.050000, E_bond=-0.2460708907, max(S)=0.0172500676\n",
      "INFO:tenpy.algorithms.purification:--> beta=0.100000, E_bond=-0.4756494810, max(S)=0.0532230133\n",
      "INFO:tenpy.algorithms.purification:--> beta=0.150000, E_bond=-0.6767971387, max(S)=0.0967049734\n",
      "INFO:tenpy.algorithms.purification:--> beta=0.200000, E_bond=-0.8441540463, max(S)=0.1411322525\n",
      "INFO:tenpy.algorithms.purification:--> beta=0.250000, E_bond=-0.9781014310, max(S)=0.1827168026\n",
      "INFO:tenpy.algorithms.purification:--> beta=0.300000, E_bond=-1.0825193832, max(S)=0.2197692357\n",
      "INFO:tenpy.algorithms.purification:--> beta=0.350000, E_bond=-1.1626430338, max(S)=0.2518978714\n",
      "INFO:tenpy.algorithms.purification:--> beta=0.400000, E_bond=-1.2236704021, max(S)=0.2793931954\n",
      "INFO:tenpy.algorithms.purification:--> beta=0.450000, E_bond=-1.2701012984, max(S)=0.3028286284\n",
      "INFO:tenpy.algorithms.purification:--> beta=0.500000, E_bond=-1.3055507972, max(S)=0.3228394786\n",
      "INFO:tenpy.algorithms.purification:--> beta=0.550000, E_bond=-1.3328003341, max(S)=0.3400180953\n",
      "INFO:tenpy.algorithms.purification:--> beta=0.600000, E_bond=-1.3539370350, max(S)=0.3548744861\n",
      "INFO:tenpy.algorithms.purification:--> beta=0.650000, E_bond=-1.3705056888, max(S)=0.3678296985\n",
      "INFO:tenpy.algorithms.purification:--> beta=0.700000, E_bond=-1.3836424298, max(S)=0.3792235056\n",
      "INFO:tenpy.algorithms.purification:--> beta=0.750000, E_bond=-1.3941816805, max(S)=0.3893269224\n",
      "INFO:tenpy.algorithms.purification:--> beta=0.800000, E_bond=-1.4027375341, max(S)=0.3983551258\n",
      "INFO:tenpy.algorithms.purification:--> beta=0.850000, E_bond=-1.4097639704, max(S)=0.4064789716\n",
      "INFO:tenpy.algorithms.purification:--> beta=0.900000, E_bond=-1.4155987118, max(S)=0.4138345769\n",
      "INFO:tenpy.algorithms.purification:--> beta=0.950000, E_bond=-1.4204948990, max(S)=0.4205309967\n",
      "INFO:tenpy.algorithms.purification:--> beta=1.000000, E_bond=-1.4246438886, max(S)=0.4266562441\n",
      "INFO:tenpy.algorithms.purification:--> beta=1.050000, E_bond=-1.4281916564, max(S)=0.4322819527\n",
      "INFO:tenpy.algorithms.purification:--> beta=1.100000, E_bond=-1.4312506251, max(S)=0.4374669632\n",
      "INFO:tenpy.algorithms.purification:--> beta=1.150000, E_bond=-1.4339082222, max(S)=0.4422600755\n",
      "INFO:tenpy.algorithms.purification:--> beta=1.200000, E_bond=-1.4362331058, max(S)=0.4467021603\n",
      "/home/sajant/tenpy/tenpy/tools/params.py:232: UserWarning: unused options for config PurificationTEBD:\n",
      "['N_steps', 'order']\n",
      "  warnings.warn(msg.format(keys=sorted(unused), name=self.name))\n",
      "INFO:tenpy.algorithms.purification:--> beta=1.250000, E_bond=-1.4382797183, max(S)=0.4508277821\n",
      "INFO:tenpy.algorithms.purification:--> beta=1.300000, E_bond=-1.4400916410, max(S)=0.4546664509\n",
      "INFO:tenpy.algorithms.purification:--> beta=1.350000, E_bond=-1.4417040823, max(S)=0.4582435927\n",
      "INFO:tenpy.algorithms.purification:--> beta=1.400000, E_bond=-1.4431457386, max(S)=0.4615813050\n",
      "INFO:tenpy.algorithms.purification:--> beta=1.450000, E_bond=-1.4444401956, max(S)=0.4646989497\n",
      "INFO:tenpy.algorithms.purification:--> beta=1.500000, E_bond=-1.4456069943, max(S)=0.4676136203\n"
     ]
    },
    {
     "name": "stdout",
     "output_type": "stream",
     "text": [
      "[4, 16, 16, 16, 16, 16, 16, 16, 16, 16, 16, 16, 16, 16, 16, 16, 16, 16, 16, 16, 16, 16, 16, 16, 16, 16, 16, 16, 4]\n"
     ]
    },
    {
     "name": "stderr",
     "output_type": "stream",
     "text": [
      "INFO:tenpy.tools.params:TFIChain: reading 'L'=30\n",
      "INFO:tenpy.tools.params:TFIChain: reading 'J'=1.0\n",
      "INFO:tenpy.tools.params:TFIChain: reading 'g'=1.2\n",
      "INFO:tenpy.tools.params:PurificationTEBD: subconfig 'trunc_params'=Config(<2 options>, 'trunc_params')\n",
      "INFO:tenpy.tools.params:PurificationTEBD: reading 'dt'=0.05\n",
      "INFO:tenpy.algorithms.tebd:Calculate U for {'order': 2, 'delta_t': 0.05, 'type_evo': 'imag', 'E_offset': None, 'tau': -0.05j}\n",
      "INFO:tenpy.tools.params:trunc_params: reading 'chi_max'=20\n",
      "INFO:tenpy.tools.params:trunc_params: reading 'svd_min'=1e-08\n",
      "INFO:tenpy.algorithms.purification:--> beta=0.050000, E_bond=-0.2460708907, max(S)=0.0172500676\n",
      "INFO:tenpy.algorithms.purification:--> beta=0.100000, E_bond=-0.4756494810, max(S)=0.0532230133\n",
      "INFO:tenpy.algorithms.purification:--> beta=0.150000, E_bond=-0.6767971387, max(S)=0.0967049734\n",
      "INFO:tenpy.algorithms.purification:--> beta=0.200000, E_bond=-0.8441540463, max(S)=0.1411322525\n",
      "INFO:tenpy.algorithms.purification:--> beta=0.250000, E_bond=-0.9781014310, max(S)=0.1827168026\n",
      "INFO:tenpy.algorithms.purification:--> beta=0.300000, E_bond=-1.0825193832, max(S)=0.2197692357\n",
      "INFO:tenpy.algorithms.purification:--> beta=0.350000, E_bond=-1.1626430338, max(S)=0.2518978714\n",
      "INFO:tenpy.algorithms.purification:--> beta=0.400000, E_bond=-1.2236704021, max(S)=0.2793931954\n",
      "INFO:tenpy.algorithms.purification:--> beta=0.450000, E_bond=-1.2701012984, max(S)=0.3028286284\n",
      "INFO:tenpy.algorithms.purification:--> beta=0.500000, E_bond=-1.3055507972, max(S)=0.3228394786\n",
      "INFO:tenpy.algorithms.purification:--> beta=0.550000, E_bond=-1.3328003341, max(S)=0.3400180953\n",
      "INFO:tenpy.algorithms.purification:--> beta=0.600000, E_bond=-1.3539370350, max(S)=0.3548744861\n",
      "INFO:tenpy.algorithms.purification:--> beta=0.650000, E_bond=-1.3705056888, max(S)=0.3678296985\n",
      "INFO:tenpy.algorithms.purification:--> beta=0.700000, E_bond=-1.3836424298, max(S)=0.3792235056\n",
      "INFO:tenpy.algorithms.purification:--> beta=0.750000, E_bond=-1.3941816805, max(S)=0.3893269224\n",
      "INFO:tenpy.algorithms.purification:--> beta=0.800000, E_bond=-1.4027375341, max(S)=0.3983551258\n",
      "INFO:tenpy.algorithms.purification:--> beta=0.850000, E_bond=-1.4097639705, max(S)=0.4064789719\n",
      "INFO:tenpy.algorithms.purification:--> beta=0.900000, E_bond=-1.4155987119, max(S)=0.4138345776\n",
      "INFO:tenpy.algorithms.purification:--> beta=0.950000, E_bond=-1.4204948992, max(S)=0.4205309982\n",
      "INFO:tenpy.algorithms.purification:--> beta=1.000000, E_bond=-1.4246438890, max(S)=0.4266562471\n",
      "INFO:tenpy.algorithms.purification:--> beta=1.050000, E_bond=-1.4281916571, max(S)=0.4322819578\n",
      "INFO:tenpy.algorithms.purification:--> beta=1.100000, E_bond=-1.4312506259, max(S)=0.4374669712\n",
      "INFO:tenpy.algorithms.purification:--> beta=1.150000, E_bond=-1.4339082234, max(S)=0.4422600875\n",
      "INFO:tenpy.algorithms.purification:--> beta=1.200000, E_bond=-1.4362331073, max(S)=0.4467021777\n",
      "INFO:tenpy.algorithms.purification:--> beta=1.250000, E_bond=-1.4382797203, max(S)=0.4508278065\n",
      "INFO:tenpy.algorithms.purification:--> beta=1.300000, E_bond=-1.4400916435, max(S)=0.4546664842\n",
      "INFO:tenpy.algorithms.purification:--> beta=1.350000, E_bond=-1.4417040854, max(S)=0.4582436371\n",
      "INFO:tenpy.algorithms.purification:--> beta=1.400000, E_bond=-1.4431457423, max(S)=0.4615813631\n",
      "INFO:tenpy.algorithms.purification:--> beta=1.450000, E_bond=-1.4444402001, max(S)=0.4646990244\n",
      "INFO:tenpy.algorithms.purification:--> beta=1.500000, E_bond=-1.4456069997, max(S)=0.4676137150\n"
     ]
    },
    {
     "name": "stdout",
     "output_type": "stream",
     "text": [
      "[4, 16, 20, 20, 20, 20, 20, 20, 20, 20, 20, 20, 20, 20, 20, 20, 20, 20, 20, 20, 20, 20, 20, 20, 20, 20, 20, 16, 4]\n"
     ]
    },
    {
     "name": "stderr",
     "output_type": "stream",
     "text": [
      "INFO:tenpy.tools.params:TFIChain: reading 'L'=30\n",
      "INFO:tenpy.tools.params:TFIChain: reading 'J'=1.0\n",
      "INFO:tenpy.tools.params:TFIChain: reading 'g'=1.2\n",
      "INFO:tenpy.tools.params:PurificationTEBD: subconfig 'trunc_params'=Config(<2 options>, 'trunc_params')\n",
      "INFO:tenpy.tools.params:PurificationTEBD: reading 'dt'=0.05\n",
      "INFO:tenpy.algorithms.tebd:Calculate U for {'order': 2, 'delta_t': 0.05, 'type_evo': 'imag', 'E_offset': None, 'tau': -0.05j}\n",
      "INFO:tenpy.tools.params:trunc_params: reading 'chi_max'=24\n",
      "INFO:tenpy.tools.params:trunc_params: reading 'svd_min'=1e-08\n",
      "INFO:tenpy.algorithms.purification:--> beta=0.050000, E_bond=-0.2460708907, max(S)=0.0172500676\n",
      "INFO:tenpy.algorithms.purification:--> beta=0.100000, E_bond=-0.4756494810, max(S)=0.0532230133\n",
      "INFO:tenpy.algorithms.purification:--> beta=0.150000, E_bond=-0.6767971387, max(S)=0.0967049734\n",
      "INFO:tenpy.algorithms.purification:--> beta=0.200000, E_bond=-0.8441540463, max(S)=0.1411322525\n",
      "INFO:tenpy.algorithms.purification:--> beta=0.250000, E_bond=-0.9781014310, max(S)=0.1827168026\n",
      "INFO:tenpy.algorithms.purification:--> beta=0.300000, E_bond=-1.0825193832, max(S)=0.2197692357\n",
      "INFO:tenpy.algorithms.purification:--> beta=0.350000, E_bond=-1.1626430338, max(S)=0.2518978714\n",
      "INFO:tenpy.algorithms.purification:--> beta=0.400000, E_bond=-1.2236704021, max(S)=0.2793931954\n",
      "INFO:tenpy.algorithms.purification:--> beta=0.450000, E_bond=-1.2701012984, max(S)=0.3028286284\n",
      "INFO:tenpy.algorithms.purification:--> beta=0.500000, E_bond=-1.3055507972, max(S)=0.3228394786\n",
      "INFO:tenpy.algorithms.purification:--> beta=0.550000, E_bond=-1.3328003341, max(S)=0.3400180953\n",
      "INFO:tenpy.algorithms.purification:--> beta=0.600000, E_bond=-1.3539370350, max(S)=0.3548744861\n",
      "INFO:tenpy.algorithms.purification:--> beta=0.650000, E_bond=-1.3705056888, max(S)=0.3678296985\n",
      "INFO:tenpy.algorithms.purification:--> beta=0.700000, E_bond=-1.3836424298, max(S)=0.3792235056\n",
      "INFO:tenpy.algorithms.purification:--> beta=0.750000, E_bond=-1.3941816805, max(S)=0.3893269224\n",
      "INFO:tenpy.algorithms.purification:--> beta=0.800000, E_bond=-1.4027375341, max(S)=0.3983551258\n",
      "INFO:tenpy.algorithms.purification:--> beta=0.850000, E_bond=-1.4097639705, max(S)=0.4064789719\n",
      "INFO:tenpy.algorithms.purification:--> beta=0.900000, E_bond=-1.4155987119, max(S)=0.4138345776\n",
      "INFO:tenpy.algorithms.purification:--> beta=0.950000, E_bond=-1.4204948992, max(S)=0.4205309982\n",
      "INFO:tenpy.algorithms.purification:--> beta=1.000000, E_bond=-1.4246438890, max(S)=0.4266562471\n",
      "INFO:tenpy.algorithms.purification:--> beta=1.050000, E_bond=-1.4281916571, max(S)=0.4322819578\n",
      "INFO:tenpy.algorithms.purification:--> beta=1.100000, E_bond=-1.4312506260, max(S)=0.4374669712\n",
      "INFO:tenpy.algorithms.purification:--> beta=1.150000, E_bond=-1.4339082234, max(S)=0.4422600875\n",
      "INFO:tenpy.algorithms.purification:--> beta=1.200000, E_bond=-1.4362331074, max(S)=0.4467021777\n",
      "INFO:tenpy.algorithms.purification:--> beta=1.250000, E_bond=-1.4382797204, max(S)=0.4508278067\n",
      "INFO:tenpy.algorithms.purification:--> beta=1.300000, E_bond=-1.4400916437, max(S)=0.4546664848\n",
      "INFO:tenpy.algorithms.purification:--> beta=1.350000, E_bond=-1.4417040858, max(S)=0.4582436383\n",
      "INFO:tenpy.algorithms.purification:--> beta=1.400000, E_bond=-1.4431457429, max(S)=0.4615813653\n",
      "INFO:tenpy.algorithms.purification:--> beta=1.450000, E_bond=-1.4444402010, max(S)=0.4646990279\n",
      "INFO:tenpy.algorithms.purification:--> beta=1.500000, E_bond=-1.4456070009, max(S)=0.4676137204\n"
     ]
    },
    {
     "name": "stdout",
     "output_type": "stream",
     "text": [
      "[4, 16, 24, 24, 24, 24, 24, 24, 24, 24, 24, 24, 24, 24, 24, 24, 24, 24, 24, 24, 24, 24, 24, 24, 24, 24, 24, 16, 4]\n"
     ]
    }
   ],
   "source": [
    "datas_tebd = {}\n",
    "for chi in [2, 4, 8, 12, 16, 20, 24]:\n",
    "    datas_tebd[chi] = imag_tebd(L=30, beta_max=3.0, num_samples=50, chi_max=chi, sample_all=False)"
   ]
  },
  {
   "cell_type": "code",
   "execution_count": 9,
   "id": "7b9512eb-bd05-45cf-900b-a858e6669302",
   "metadata": {},
   "outputs": [
    {
     "data": {
      "text/plain": [
       "dict_keys([2, 4, 8, 12, 16, 20, 24])"
      ]
     },
     "execution_count": 9,
     "metadata": {},
     "output_type": "execute_result"
    }
   ],
   "source": [
    "datas_tebd.keys()"
   ]
  },
  {
   "cell_type": "code",
   "execution_count": 10,
   "id": "c25cab64-2c33-4279-ada7-3532ec9f37ae",
   "metadata": {},
   "outputs": [
    {
     "data": {
      "image/png": "[encoded data removed]",
      "text/plain": [
       "<Figure size 640x480 with 1 Axes>"
      ]
     },
     "metadata": {},
     "output_type": "display_data"
    }
   ],
   "source": [
    "chis = list(datas_tebd.keys())\n",
    "plt.plot(chis, [datas_tebd[c]['time_sq'] for c in chis], '.', label='TEBD; sampling q')\n",
    "plt.plot(chis, [datas_tebd[c]['time_nsq'] for c in chis], '.', label='TEBD; tracing q')\n",
    "\n",
    "plt.legend()\n",
    "plt.xlabel(r'$\\chi$')\n",
    "plt.ylabel(r'Sampling Time')\n",
    "plt.show()"
   ]
  },
  {
   "cell_type": "markdown",
   "id": "26cfa69d-5870-4e8c-a0e9-46947d0bc8e0",
   "metadata": {},
   "source": [
    "At these small bond dimensions, $\\chi \\leq 24$, we do not see the expect scaling of sampling time with bond dimension. The transverse field Ising model is not complicated enough to generate large bond dimensions."
   ]
  },
  {
   "cell_type": "markdown",
   "id": "7cba3532-a70e-4ba8-be48-c2242534a449",
   "metadata": {},
   "source": [
    "## Accuracy with increasing number of samples"
   ]
  },
  {
   "cell_type": "markdown",
   "id": "e2ebef5e-b6b1-4ae7-a12e-3145f5142fbc",
   "metadata": {},
   "source": [
    "Finally, we demonstrate that the error in expectation values from sampling decreases with the number of samples, as expected."
   ]
  },
  {
   "cell_type": "code",
   "execution_count": 11,
   "id": "b971febf-13f9-454b-8e48-e64da7e6fc64",
   "metadata": {
    "scrolled": true
   },
   "outputs": [
    {
     "name": "stderr",
     "output_type": "stream",
     "text": [
      "INFO:tenpy.tools.params:TFIChain: reading 'L'=30\n",
      "INFO:tenpy.tools.params:TFIChain: reading 'J'=1.0\n",
      "INFO:tenpy.tools.params:TFIChain: reading 'g'=1.2\n",
      "INFO:tenpy.tools.params:PurificationTEBD: subconfig 'trunc_params'=Config(<2 options>, 'trunc_params')\n",
      "INFO:tenpy.tools.params:PurificationTEBD: reading 'dt'=0.05\n",
      "INFO:tenpy.algorithms.tebd:Calculate U for {'order': 2, 'delta_t': 0.05, 'type_evo': 'imag', 'E_offset': None, 'tau': -0.05j}\n",
      "INFO:tenpy.tools.params:trunc_params: reading 'chi_max'=100\n",
      "INFO:tenpy.tools.params:trunc_params: reading 'svd_min'=1e-08\n",
      "INFO:tenpy.algorithms.purification:--> beta=0.050000, E_bond=-0.2460708907, max(S)=0.0172500676\n"
     ]
    },
    {
     "name": "stdout",
     "output_type": "stream",
     "text": [
      "[4, 4, 4, 4, 4, 4, 4, 4, 4, 4, 4, 4, 4, 4, 4, 4, 4, 4, 4, 4, 4, 4, 4, 4, 4, 4, 4, 4, 4]\n"
     ]
    },
    {
     "name": "stderr",
     "output_type": "stream",
     "text": [
      "INFO:tenpy.algorithms.purification:--> beta=0.100000, E_bond=-0.4756494810, max(S)=0.0532230133\n"
     ]
    },
    {
     "name": "stdout",
     "output_type": "stream",
     "text": [
      "[4, 6, 6, 6, 6, 6, 6, 6, 6, 6, 6, 6, 6, 6, 6, 6, 6, 6, 6, 6, 6, 6, 6, 6, 6, 6, 6, 6, 4]\n"
     ]
    },
    {
     "name": "stderr",
     "output_type": "stream",
     "text": [
      "INFO:tenpy.algorithms.purification:--> beta=0.150000, E_bond=-0.6767971387, max(S)=0.0967049734\n"
     ]
    },
    {
     "name": "stdout",
     "output_type": "stream",
     "text": [
      "[4, 6, 6, 6, 6, 6, 6, 6, 6, 6, 6, 6, 6, 6, 6, 6, 6, 6, 6, 6, 6, 6, 6, 6, 6, 6, 6, 6, 4]\n"
     ]
    },
    {
     "name": "stderr",
     "output_type": "stream",
     "text": [
      "INFO:tenpy.algorithms.purification:--> beta=0.200000, E_bond=-0.8441540463, max(S)=0.1411322525\n"
     ]
    },
    {
     "name": "stdout",
     "output_type": "stream",
     "text": [
      "[4, 7, 7, 7, 7, 7, 7, 7, 7, 7, 7, 7, 7, 7, 7, 7, 7, 7, 7, 7, 7, 7, 7, 7, 7, 7, 7, 7, 4]\n"
     ]
    },
    {
     "name": "stderr",
     "output_type": "stream",
     "text": [
      "INFO:tenpy.algorithms.purification:--> beta=0.250000, E_bond=-0.9781014310, max(S)=0.1827168026\n"
     ]
    },
    {
     "name": "stdout",
     "output_type": "stream",
     "text": [
      "[4, 9, 9, 9, 9, 9, 9, 9, 9, 9, 9, 9, 9, 9, 9, 9, 9, 9, 9, 9, 9, 9, 9, 9, 9, 9, 9, 9, 4]\n"
     ]
    },
    {
     "name": "stderr",
     "output_type": "stream",
     "text": [
      "INFO:tenpy.algorithms.purification:--> beta=0.300000, E_bond=-1.0825193832, max(S)=0.2197692357\n"
     ]
    },
    {
     "name": "stdout",
     "output_type": "stream",
     "text": [
      "[4, 10, 10, 10, 10, 10, 10, 10, 10, 10, 10, 10, 10, 10, 10, 10, 10, 10, 10, 10, 10, 10, 10, 10, 10, 10, 10, 10, 4]\n"
     ]
    },
    {
     "name": "stderr",
     "output_type": "stream",
     "text": [
      "INFO:tenpy.algorithms.purification:--> beta=0.350000, E_bond=-1.1626430338, max(S)=0.2518978714\n"
     ]
    },
    {
     "name": "stdout",
     "output_type": "stream",
     "text": [
      "[4, 10, 10, 10, 10, 10, 10, 10, 10, 10, 10, 10, 10, 10, 10, 10, 10, 10, 10, 10, 10, 10, 10, 10, 10, 10, 10, 10, 4]\n"
     ]
    },
    {
     "name": "stderr",
     "output_type": "stream",
     "text": [
      "INFO:tenpy.algorithms.purification:--> beta=0.400000, E_bond=-1.2236704021, max(S)=0.2793931954\n"
     ]
    },
    {
     "name": "stdout",
     "output_type": "stream",
     "text": [
      "[4, 10, 10, 10, 10, 10, 10, 10, 10, 10, 10, 10, 10, 10, 10, 10, 10, 10, 10, 10, 10, 10, 10, 10, 10, 10, 10, 11, 4]\n"
     ]
    },
    {
     "name": "stderr",
     "output_type": "stream",
     "text": [
      "INFO:tenpy.algorithms.purification:--> beta=0.450000, E_bond=-1.2701012984, max(S)=0.3028286284\n"
     ]
    },
    {
     "name": "stdout",
     "output_type": "stream",
     "text": [
      "[4, 11, 11, 11, 11, 11, 11, 11, 11, 11, 11, 11, 11, 11, 11, 11, 11, 11, 11, 11, 11, 11, 11, 11, 11, 11, 11, 11, 4]\n"
     ]
    },
    {
     "name": "stderr",
     "output_type": "stream",
     "text": [
      "INFO:tenpy.algorithms.purification:--> beta=0.500000, E_bond=-1.3055507972, max(S)=0.3228394786\n"
     ]
    },
    {
     "name": "stdout",
     "output_type": "stream",
     "text": [
      "[4, 12, 12, 12, 12, 12, 12, 12, 12, 12, 12, 12, 12, 12, 12, 12, 12, 12, 12, 12, 12, 12, 12, 12, 12, 12, 12, 12, 4]\n"
     ]
    },
    {
     "name": "stderr",
     "output_type": "stream",
     "text": [
      "INFO:tenpy.algorithms.purification:--> beta=0.550000, E_bond=-1.3328003341, max(S)=0.3400180953\n"
     ]
    },
    {
     "name": "stdout",
     "output_type": "stream",
     "text": [
      "[4, 12, 13, 13, 13, 13, 13, 13, 13, 13, 13, 13, 13, 13, 13, 13, 13, 13, 13, 13, 13, 13, 13, 13, 13, 13, 13, 12, 4]\n"
     ]
    },
    {
     "name": "stderr",
     "output_type": "stream",
     "text": [
      "INFO:tenpy.algorithms.purification:--> beta=0.600000, E_bond=-1.3539370350, max(S)=0.3548744861\n"
     ]
    },
    {
     "name": "stdout",
     "output_type": "stream",
     "text": [
      "[4, 12, 13, 13, 13, 13, 13, 13, 13, 13, 13, 13, 13, 13, 13, 13, 13, 13, 13, 13, 13, 13, 13, 13, 13, 13, 13, 12, 4]\n"
     ]
    },
    {
     "name": "stderr",
     "output_type": "stream",
     "text": [
      "INFO:tenpy.algorithms.purification:--> beta=0.650000, E_bond=-1.3705056888, max(S)=0.3678296985\n"
     ]
    },
    {
     "name": "stdout",
     "output_type": "stream",
     "text": [
      "[4, 12, 14, 14, 14, 14, 14, 14, 14, 14, 14, 14, 14, 14, 14, 14, 14, 14, 14, 14, 14, 14, 14, 14, 14, 14, 14, 12, 4]\n"
     ]
    },
    {
     "name": "stderr",
     "output_type": "stream",
     "text": [
      "INFO:tenpy.algorithms.purification:--> beta=0.700000, E_bond=-1.3836424298, max(S)=0.3792235056\n"
     ]
    },
    {
     "name": "stdout",
     "output_type": "stream",
     "text": [
      "[4, 13, 15, 15, 15, 15, 15, 15, 15, 15, 15, 15, 15, 15, 15, 15, 15, 15, 15, 15, 15, 15, 15, 15, 15, 15, 15, 13, 4]\n"
     ]
    },
    {
     "name": "stderr",
     "output_type": "stream",
     "text": [
      "INFO:tenpy.algorithms.purification:--> beta=0.750000, E_bond=-1.3941816805, max(S)=0.3893269224\n"
     ]
    },
    {
     "name": "stdout",
     "output_type": "stream",
     "text": [
      "[4, 13, 15, 15, 15, 15, 15, 15, 15, 15, 15, 15, 15, 15, 15, 15, 15, 15, 15, 15, 15, 15, 15, 15, 15, 15, 15, 13, 4]\n"
     ]
    },
    {
     "name": "stderr",
     "output_type": "stream",
     "text": [
      "INFO:tenpy.algorithms.purification:--> beta=0.800000, E_bond=-1.4027375341, max(S)=0.3983551258\n"
     ]
    },
    {
     "name": "stdout",
     "output_type": "stream",
     "text": [
      "[4, 14, 16, 16, 17, 17, 17, 17, 17, 17, 17, 17, 17, 17, 17, 17, 17, 17, 17, 17, 17, 17, 17, 17, 17, 16, 16, 14, 4]\n"
     ]
    },
    {
     "name": "stderr",
     "output_type": "stream",
     "text": [
      "INFO:tenpy.algorithms.purification:--> beta=0.850000, E_bond=-1.4097639705, max(S)=0.4064789719\n"
     ]
    },
    {
     "name": "stdout",
     "output_type": "stream",
     "text": [
      "[4, 14, 17, 17, 17, 17, 17, 17, 17, 17, 17, 17, 17, 17, 17, 17, 17, 17, 17, 17, 17, 17, 17, 17, 17, 17, 17, 14, 4]\n"
     ]
    },
    {
     "name": "stderr",
     "output_type": "stream",
     "text": [
      "INFO:tenpy.algorithms.purification:--> beta=0.900000, E_bond=-1.4155987119, max(S)=0.4138345776\n"
     ]
    },
    {
     "name": "stdout",
     "output_type": "stream",
     "text": [
      "[4, 14, 17, 17, 18, 18, 18, 18, 18, 18, 18, 18, 18, 18, 18, 18, 18, 18, 18, 18, 18, 18, 18, 18, 18, 17, 17, 14, 4]\n"
     ]
    },
    {
     "name": "stderr",
     "output_type": "stream",
     "text": [
      "INFO:tenpy.algorithms.purification:--> beta=0.950000, E_bond=-1.4204948992, max(S)=0.4205309982\n"
     ]
    },
    {
     "name": "stdout",
     "output_type": "stream",
     "text": [
      "[4, 15, 19, 19, 19, 19, 19, 19, 19, 19, 19, 19, 19, 19, 19, 19, 19, 19, 19, 19, 19, 19, 19, 19, 19, 19, 19, 15, 4]\n"
     ]
    },
    {
     "name": "stderr",
     "output_type": "stream",
     "text": [
      "INFO:tenpy.algorithms.purification:--> beta=1.000000, E_bond=-1.4246438890, max(S)=0.4266562471\n"
     ]
    },
    {
     "name": "stdout",
     "output_type": "stream",
     "text": [
      "[4, 15, 19, 19, 19, 19, 19, 19, 19, 19, 19, 19, 19, 19, 19, 19, 19, 19, 19, 19, 19, 19, 19, 19, 19, 19, 19, 15, 4]\n"
     ]
    },
    {
     "name": "stderr",
     "output_type": "stream",
     "text": [
      "INFO:tenpy.algorithms.purification:--> beta=1.050000, E_bond=-1.4281916571, max(S)=0.4322819578\n"
     ]
    },
    {
     "name": "stdout",
     "output_type": "stream",
     "text": [
      "[4, 16, 21, 21, 21, 21, 21, 21, 21, 21, 21, 21, 21, 21, 21, 21, 21, 21, 21, 21, 21, 21, 21, 21, 21, 21, 21, 15, 4]\n"
     ]
    },
    {
     "name": "stderr",
     "output_type": "stream",
     "text": [
      "INFO:tenpy.algorithms.purification:--> beta=1.100000, E_bond=-1.4312506260, max(S)=0.4374669712\n"
     ]
    },
    {
     "name": "stdout",
     "output_type": "stream",
     "text": [
      "[4, 16, 21, 21, 21, 21, 21, 21, 21, 21, 21, 21, 21, 21, 21, 21, 21, 21, 21, 21, 21, 21, 21, 21, 21, 21, 21, 16, 4]\n"
     ]
    },
    {
     "name": "stderr",
     "output_type": "stream",
     "text": [
      "INFO:tenpy.algorithms.purification:--> beta=1.150000, E_bond=-1.4339082234, max(S)=0.4422600875\n"
     ]
    },
    {
     "name": "stdout",
     "output_type": "stream",
     "text": [
      "[4, 16, 21, 21, 21, 21, 21, 21, 21, 21, 21, 21, 21, 21, 21, 21, 21, 21, 21, 21, 21, 21, 21, 21, 21, 21, 21, 16, 4]\n"
     ]
    },
    {
     "name": "stderr",
     "output_type": "stream",
     "text": [
      "INFO:tenpy.algorithms.purification:--> beta=1.200000, E_bond=-1.4362331074, max(S)=0.4467021777\n"
     ]
    },
    {
     "name": "stdout",
     "output_type": "stream",
     "text": [
      "[4, 16, 22, 23, 23, 23, 23, 23, 23, 23, 23, 23, 23, 23, 23, 23, 23, 23, 23, 23, 23, 23, 23, 23, 23, 23, 22, 16, 4]\n"
     ]
    },
    {
     "name": "stderr",
     "output_type": "stream",
     "text": [
      "INFO:tenpy.algorithms.purification:--> beta=1.250000, E_bond=-1.4382797204, max(S)=0.4508278067\n"
     ]
    },
    {
     "name": "stdout",
     "output_type": "stream",
     "text": [
      "[4, 16, 23, 23, 23, 23, 23, 23, 23, 23, 23, 23, 23, 23, 23, 23, 23, 23, 23, 23, 23, 23, 23, 23, 23, 23, 23, 16, 4]\n"
     ]
    },
    {
     "name": "stderr",
     "output_type": "stream",
     "text": [
      "INFO:tenpy.algorithms.purification:--> beta=1.300000, E_bond=-1.4400916437, max(S)=0.4546664848\n"
     ]
    },
    {
     "name": "stdout",
     "output_type": "stream",
     "text": [
      "[4, 16, 23, 23, 23, 23, 23, 23, 23, 23, 23, 23, 23, 23, 23, 23, 23, 23, 23, 23, 23, 23, 23, 23, 23, 23, 23, 16, 4]\n"
     ]
    },
    {
     "name": "stderr",
     "output_type": "stream",
     "text": [
      "INFO:tenpy.algorithms.purification:--> beta=1.350000, E_bond=-1.4417040858, max(S)=0.4582436383\n"
     ]
    },
    {
     "name": "stdout",
     "output_type": "stream",
     "text": [
      "[4, 16, 23, 24, 24, 24, 24, 24, 24, 24, 24, 24, 24, 24, 24, 24, 24, 24, 24, 24, 24, 24, 24, 24, 24, 24, 23, 16, 4]\n"
     ]
    },
    {
     "name": "stderr",
     "output_type": "stream",
     "text": [
      "INFO:tenpy.algorithms.purification:--> beta=1.400000, E_bond=-1.4431457429, max(S)=0.4615813653\n"
     ]
    },
    {
     "name": "stdout",
     "output_type": "stream",
     "text": [
      "[4, 16, 25, 25, 25, 25, 25, 25, 25, 25, 25, 25, 25, 25, 25, 25, 25, 25, 25, 25, 25, 25, 25, 25, 25, 25, 25, 16, 4]\n"
     ]
    },
    {
     "name": "stderr",
     "output_type": "stream",
     "text": [
      "INFO:tenpy.algorithms.purification:--> beta=1.450000, E_bond=-1.4444402010, max(S)=0.4646990279\n"
     ]
    },
    {
     "name": "stdout",
     "output_type": "stream",
     "text": [
      "[4, 16, 25, 25, 25, 25, 25, 25, 25, 25, 25, 25, 25, 25, 25, 25, 25, 25, 25, 25, 25, 25, 25, 25, 25, 25, 25, 16, 4]\n"
     ]
    },
    {
     "name": "stderr",
     "output_type": "stream",
     "text": [
      "INFO:tenpy.algorithms.purification:--> beta=1.500000, E_bond=-1.4456070009, max(S)=0.4676137204\n"
     ]
    },
    {
     "name": "stdout",
     "output_type": "stream",
     "text": [
      "[4, 16, 25, 25, 25, 25, 25, 25, 25, 25, 25, 25, 25, 25, 25, 25, 25, 25, 25, 25, 25, 25, 25, 25, 25, 25, 25, 16, 4]\n"
     ]
    },
    {
     "name": "stderr",
     "output_type": "stream",
     "text": [
      "INFO:tenpy.tools.params:TFIChain: reading 'L'=30\n",
      "INFO:tenpy.tools.params:TFIChain: reading 'J'=1.0\n",
      "INFO:tenpy.tools.params:TFIChain: reading 'g'=1.2\n",
      "INFO:tenpy.tools.params:PurificationTEBD: subconfig 'trunc_params'=Config(<2 options>, 'trunc_params')\n",
      "INFO:tenpy.tools.params:PurificationTEBD: reading 'dt'=0.05\n",
      "INFO:tenpy.algorithms.tebd:Calculate U for {'order': 2, 'delta_t': 0.05, 'type_evo': 'imag', 'E_offset': None, 'tau': -0.05j}\n",
      "INFO:tenpy.tools.params:trunc_params: reading 'chi_max'=100\n",
      "INFO:tenpy.tools.params:trunc_params: reading 'svd_min'=1e-08\n",
      "INFO:tenpy.algorithms.purification:--> beta=0.050000, E_bond=-0.2460708907, max(S)=0.0172500676\n"
     ]
    },
    {
     "name": "stdout",
     "output_type": "stream",
     "text": [
      "[4, 4, 4, 4, 4, 4, 4, 4, 4, 4, 4, 4, 4, 4, 4, 4, 4, 4, 4, 4, 4, 4, 4, 4, 4, 4, 4, 4, 4]\n"
     ]
    },
    {
     "name": "stderr",
     "output_type": "stream",
     "text": [
      "INFO:tenpy.algorithms.purification:--> beta=0.100000, E_bond=-0.4756494810, max(S)=0.0532230133\n"
     ]
    },
    {
     "name": "stdout",
     "output_type": "stream",
     "text": [
      "[4, 6, 6, 6, 6, 6, 6, 6, 6, 6, 6, 6, 6, 6, 6, 6, 6, 6, 6, 6, 6, 6, 6, 6, 6, 6, 6, 6, 4]\n"
     ]
    },
    {
     "name": "stderr",
     "output_type": "stream",
     "text": [
      "INFO:tenpy.algorithms.purification:--> beta=0.150000, E_bond=-0.6767971387, max(S)=0.0967049734\n"
     ]
    },
    {
     "name": "stdout",
     "output_type": "stream",
     "text": [
      "[4, 6, 6, 6, 6, 6, 6, 6, 6, 6, 6, 6, 6, 6, 6, 6, 6, 6, 6, 6, 6, 6, 6, 6, 6, 6, 6, 6, 4]\n"
     ]
    },
    {
     "name": "stderr",
     "output_type": "stream",
     "text": [
      "INFO:tenpy.algorithms.purification:--> beta=0.200000, E_bond=-0.8441540463, max(S)=0.1411322525\n"
     ]
    },
    {
     "name": "stdout",
     "output_type": "stream",
     "text": [
      "[4, 7, 7, 7, 7, 7, 7, 7, 7, 7, 7, 7, 7, 7, 7, 7, 7, 7, 7, 7, 7, 7, 7, 7, 7, 7, 7, 7, 4]\n"
     ]
    },
    {
     "name": "stderr",
     "output_type": "stream",
     "text": [
      "INFO:tenpy.algorithms.purification:--> beta=0.250000, E_bond=-0.9781014310, max(S)=0.1827168026\n"
     ]
    },
    {
     "name": "stdout",
     "output_type": "stream",
     "text": [
      "[4, 9, 9, 9, 9, 9, 9, 9, 9, 9, 9, 9, 9, 9, 9, 9, 9, 9, 9, 9, 9, 9, 9, 9, 9, 9, 9, 9, 4]\n"
     ]
    },
    {
     "name": "stderr",
     "output_type": "stream",
     "text": [
      "INFO:tenpy.algorithms.purification:--> beta=0.300000, E_bond=-1.0825193832, max(S)=0.2197692357\n"
     ]
    },
    {
     "name": "stdout",
     "output_type": "stream",
     "text": [
      "[4, 10, 10, 10, 10, 10, 10, 10, 10, 10, 10, 10, 10, 10, 10, 10, 10, 10, 10, 10, 10, 10, 10, 10, 10, 10, 10, 10, 4]\n"
     ]
    },
    {
     "name": "stderr",
     "output_type": "stream",
     "text": [
      "INFO:tenpy.algorithms.purification:--> beta=0.350000, E_bond=-1.1626430338, max(S)=0.2518978714\n"
     ]
    },
    {
     "name": "stdout",
     "output_type": "stream",
     "text": [
      "[4, 10, 10, 10, 10, 10, 10, 10, 10, 10, 10, 10, 10, 10, 10, 10, 10, 10, 10, 10, 10, 10, 10, 10, 10, 10, 10, 10, 4]\n"
     ]
    },
    {
     "name": "stderr",
     "output_type": "stream",
     "text": [
      "INFO:tenpy.algorithms.purification:--> beta=0.400000, E_bond=-1.2236704021, max(S)=0.2793931954\n"
     ]
    },
    {
     "name": "stdout",
     "output_type": "stream",
     "text": [
      "[4, 10, 10, 10, 10, 10, 10, 10, 10, 10, 10, 10, 10, 10, 10, 10, 10, 10, 10, 10, 10, 10, 10, 10, 10, 10, 10, 11, 4]\n"
     ]
    },
    {
     "name": "stderr",
     "output_type": "stream",
     "text": [
      "INFO:tenpy.algorithms.purification:--> beta=0.450000, E_bond=-1.2701012984, max(S)=0.3028286284\n"
     ]
    },
    {
     "name": "stdout",
     "output_type": "stream",
     "text": [
      "[4, 11, 11, 11, 11, 11, 11, 11, 11, 11, 11, 11, 11, 11, 11, 11, 11, 11, 11, 11, 11, 11, 11, 11, 11, 11, 11, 11, 4]\n"
     ]
    },
    {
     "name": "stderr",
     "output_type": "stream",
     "text": [
      "INFO:tenpy.algorithms.purification:--> beta=0.500000, E_bond=-1.3055507972, max(S)=0.3228394786\n"
     ]
    },
    {
     "name": "stdout",
     "output_type": "stream",
     "text": [
      "[4, 12, 12, 12, 12, 12, 12, 12, 12, 12, 12, 12, 12, 12, 12, 12, 12, 12, 12, 12, 12, 12, 12, 12, 12, 12, 12, 12, 4]\n"
     ]
    },
    {
     "name": "stderr",
     "output_type": "stream",
     "text": [
      "INFO:tenpy.algorithms.purification:--> beta=0.550000, E_bond=-1.3328003341, max(S)=0.3400180953\n"
     ]
    },
    {
     "name": "stdout",
     "output_type": "stream",
     "text": [
      "[4, 12, 13, 13, 13, 13, 13, 13, 13, 13, 13, 13, 13, 13, 13, 13, 13, 13, 13, 13, 13, 13, 13, 13, 13, 13, 13, 12, 4]\n"
     ]
    },
    {
     "name": "stderr",
     "output_type": "stream",
     "text": [
      "INFO:tenpy.algorithms.purification:--> beta=0.600000, E_bond=-1.3539370350, max(S)=0.3548744861\n"
     ]
    },
    {
     "name": "stdout",
     "output_type": "stream",
     "text": [
      "[4, 12, 13, 13, 13, 13, 13, 13, 13, 13, 13, 13, 13, 13, 13, 13, 13, 13, 13, 13, 13, 13, 13, 13, 13, 13, 13, 12, 4]\n"
     ]
    },
    {
     "name": "stderr",
     "output_type": "stream",
     "text": [
      "INFO:tenpy.algorithms.purification:--> beta=0.650000, E_bond=-1.3705056888, max(S)=0.3678296985\n"
     ]
    },
    {
     "name": "stdout",
     "output_type": "stream",
     "text": [
      "[4, 12, 14, 14, 14, 14, 14, 14, 14, 14, 14, 14, 14, 14, 14, 14, 14, 14, 14, 14, 14, 14, 14, 14, 14, 14, 14, 12, 4]\n"
     ]
    },
    {
     "name": "stderr",
     "output_type": "stream",
     "text": [
      "INFO:tenpy.algorithms.purification:--> beta=0.700000, E_bond=-1.3836424298, max(S)=0.3792235056\n"
     ]
    },
    {
     "name": "stdout",
     "output_type": "stream",
     "text": [
      "[4, 13, 15, 15, 15, 15, 15, 15, 15, 15, 15, 15, 15, 15, 15, 15, 15, 15, 15, 15, 15, 15, 15, 15, 15, 15, 15, 13, 4]\n"
     ]
    },
    {
     "name": "stderr",
     "output_type": "stream",
     "text": [
      "INFO:tenpy.algorithms.purification:--> beta=0.750000, E_bond=-1.3941816805, max(S)=0.3893269224\n"
     ]
    },
    {
     "name": "stdout",
     "output_type": "stream",
     "text": [
      "[4, 13, 15, 15, 15, 15, 15, 15, 15, 15, 15, 15, 15, 15, 15, 15, 15, 15, 15, 15, 15, 15, 15, 15, 15, 15, 15, 13, 4]\n"
     ]
    },
    {
     "name": "stderr",
     "output_type": "stream",
     "text": [
      "INFO:tenpy.algorithms.purification:--> beta=0.800000, E_bond=-1.4027375341, max(S)=0.3983551258\n"
     ]
    },
    {
     "name": "stdout",
     "output_type": "stream",
     "text": [
      "[4, 14, 16, 16, 17, 17, 17, 17, 17, 17, 17, 17, 17, 17, 17, 17, 17, 17, 17, 17, 17, 17, 17, 17, 17, 16, 16, 14, 4]\n"
     ]
    },
    {
     "name": "stderr",
     "output_type": "stream",
     "text": [
      "INFO:tenpy.algorithms.purification:--> beta=0.850000, E_bond=-1.4097639705, max(S)=0.4064789719\n"
     ]
    },
    {
     "name": "stdout",
     "output_type": "stream",
     "text": [
      "[4, 14, 17, 17, 17, 17, 17, 17, 17, 17, 17, 17, 17, 17, 17, 17, 17, 17, 17, 17, 17, 17, 17, 17, 17, 17, 17, 14, 4]\n"
     ]
    },
    {
     "name": "stderr",
     "output_type": "stream",
     "text": [
      "INFO:tenpy.algorithms.purification:--> beta=0.900000, E_bond=-1.4155987119, max(S)=0.4138345776\n"
     ]
    },
    {
     "name": "stdout",
     "output_type": "stream",
     "text": [
      "[4, 14, 17, 17, 18, 18, 18, 18, 18, 18, 18, 18, 18, 18, 18, 18, 18, 18, 18, 18, 18, 18, 18, 18, 18, 17, 17, 14, 4]\n"
     ]
    },
    {
     "name": "stderr",
     "output_type": "stream",
     "text": [
      "INFO:tenpy.algorithms.purification:--> beta=0.950000, E_bond=-1.4204948992, max(S)=0.4205309982\n"
     ]
    },
    {
     "name": "stdout",
     "output_type": "stream",
     "text": [
      "[4, 15, 19, 19, 19, 19, 19, 19, 19, 19, 19, 19, 19, 19, 19, 19, 19, 19, 19, 19, 19, 19, 19, 19, 19, 19, 19, 15, 4]\n"
     ]
    },
    {
     "name": "stderr",
     "output_type": "stream",
     "text": [
      "INFO:tenpy.algorithms.purification:--> beta=1.000000, E_bond=-1.4246438890, max(S)=0.4266562471\n"
     ]
    },
    {
     "name": "stdout",
     "output_type": "stream",
     "text": [
      "[4, 15, 19, 19, 19, 19, 19, 19, 19, 19, 19, 19, 19, 19, 19, 19, 19, 19, 19, 19, 19, 19, 19, 19, 19, 19, 19, 15, 4]\n"
     ]
    },
    {
     "name": "stderr",
     "output_type": "stream",
     "text": [
      "INFO:tenpy.algorithms.purification:--> beta=1.050000, E_bond=-1.4281916571, max(S)=0.4322819578\n"
     ]
    },
    {
     "name": "stdout",
     "output_type": "stream",
     "text": [
      "[4, 16, 21, 21, 21, 21, 21, 21, 21, 21, 21, 21, 21, 21, 21, 21, 21, 21, 21, 21, 21, 21, 21, 21, 21, 21, 21, 15, 4]\n"
     ]
    },
    {
     "name": "stderr",
     "output_type": "stream",
     "text": [
      "INFO:tenpy.algorithms.purification:--> beta=1.100000, E_bond=-1.4312506260, max(S)=0.4374669712\n"
     ]
    },
    {
     "name": "stdout",
     "output_type": "stream",
     "text": [
      "[4, 16, 21, 21, 21, 21, 21, 21, 21, 21, 21, 21, 21, 21, 21, 21, 21, 21, 21, 21, 21, 21, 21, 21, 21, 21, 21, 16, 4]\n"
     ]
    },
    {
     "name": "stderr",
     "output_type": "stream",
     "text": [
      "INFO:tenpy.algorithms.purification:--> beta=1.150000, E_bond=-1.4339082234, max(S)=0.4422600875\n"
     ]
    },
    {
     "name": "stdout",
     "output_type": "stream",
     "text": [
      "[4, 16, 21, 21, 21, 21, 21, 21, 21, 21, 21, 21, 21, 21, 21, 21, 21, 21, 21, 21, 21, 21, 21, 21, 21, 21, 21, 16, 4]\n"
     ]
    },
    {
     "name": "stderr",
     "output_type": "stream",
     "text": [
      "INFO:tenpy.algorithms.purification:--> beta=1.200000, E_bond=-1.4362331074, max(S)=0.4467021777\n"
     ]
    },
    {
     "name": "stdout",
     "output_type": "stream",
     "text": [
      "[4, 16, 22, 23, 23, 23, 23, 23, 23, 23, 23, 23, 23, 23, 23, 23, 23, 23, 23, 23, 23, 23, 23, 23, 23, 23, 22, 16, 4]\n"
     ]
    },
    {
     "name": "stderr",
     "output_type": "stream",
     "text": [
      "INFO:tenpy.algorithms.purification:--> beta=1.250000, E_bond=-1.4382797204, max(S)=0.4508278067\n"
     ]
    },
    {
     "name": "stdout",
     "output_type": "stream",
     "text": [
      "[4, 16, 23, 23, 23, 23, 23, 23, 23, 23, 23, 23, 23, 23, 23, 23, 23, 23, 23, 23, 23, 23, 23, 23, 23, 23, 23, 16, 4]\n"
     ]
    },
    {
     "name": "stderr",
     "output_type": "stream",
     "text": [
      "INFO:tenpy.algorithms.purification:--> beta=1.300000, E_bond=-1.4400916437, max(S)=0.4546664848\n"
     ]
    },
    {
     "name": "stdout",
     "output_type": "stream",
     "text": [
      "[4, 16, 23, 23, 23, 23, 23, 23, 23, 23, 23, 23, 23, 23, 23, 23, 23, 23, 23, 23, 23, 23, 23, 23, 23, 23, 23, 16, 4]\n"
     ]
    },
    {
     "name": "stderr",
     "output_type": "stream",
     "text": [
      "INFO:tenpy.algorithms.purification:--> beta=1.350000, E_bond=-1.4417040858, max(S)=0.4582436383\n"
     ]
    },
    {
     "name": "stdout",
     "output_type": "stream",
     "text": [
      "[4, 16, 23, 24, 24, 24, 24, 24, 24, 24, 24, 24, 24, 24, 24, 24, 24, 24, 24, 24, 24, 24, 24, 24, 24, 24, 23, 16, 4]\n"
     ]
    },
    {
     "name": "stderr",
     "output_type": "stream",
     "text": [
      "INFO:tenpy.algorithms.purification:--> beta=1.400000, E_bond=-1.4431457429, max(S)=0.4615813653\n"
     ]
    },
    {
     "name": "stdout",
     "output_type": "stream",
     "text": [
      "[4, 16, 25, 25, 25, 25, 25, 25, 25, 25, 25, 25, 25, 25, 25, 25, 25, 25, 25, 25, 25, 25, 25, 25, 25, 25, 25, 16, 4]\n"
     ]
    },
    {
     "name": "stderr",
     "output_type": "stream",
     "text": [
      "INFO:tenpy.algorithms.purification:--> beta=1.450000, E_bond=-1.4444402010, max(S)=0.4646990279\n"
     ]
    },
    {
     "name": "stdout",
     "output_type": "stream",
     "text": [
      "[4, 16, 25, 25, 25, 25, 25, 25, 25, 25, 25, 25, 25, 25, 25, 25, 25, 25, 25, 25, 25, 25, 25, 25, 25, 25, 25, 16, 4]\n"
     ]
    },
    {
     "name": "stderr",
     "output_type": "stream",
     "text": [
      "INFO:tenpy.algorithms.purification:--> beta=1.500000, E_bond=-1.4456070009, max(S)=0.4676137204\n"
     ]
    },
    {
     "name": "stdout",
     "output_type": "stream",
     "text": [
      "[4, 16, 25, 25, 25, 25, 25, 25, 25, 25, 25, 25, 25, 25, 25, 25, 25, 25, 25, 25, 25, 25, 25, 25, 25, 25, 25, 16, 4]\n"
     ]
    },
    {
     "name": "stderr",
     "output_type": "stream",
     "text": [
      "INFO:tenpy.tools.params:TFIChain: reading 'L'=30\n",
      "INFO:tenpy.tools.params:TFIChain: reading 'J'=1.0\n",
      "INFO:tenpy.tools.params:TFIChain: reading 'g'=1.2\n",
      "INFO:tenpy.tools.params:PurificationTEBD: subconfig 'trunc_params'=Config(<2 options>, 'trunc_params')\n",
      "INFO:tenpy.tools.params:PurificationTEBD: reading 'dt'=0.05\n",
      "INFO:tenpy.algorithms.tebd:Calculate U for {'order': 2, 'delta_t': 0.05, 'type_evo': 'imag', 'E_offset': None, 'tau': -0.05j}\n",
      "INFO:tenpy.tools.params:trunc_params: reading 'chi_max'=100\n",
      "INFO:tenpy.tools.params:trunc_params: reading 'svd_min'=1e-08\n",
      "INFO:tenpy.algorithms.purification:--> beta=0.050000, E_bond=-0.2460708907, max(S)=0.0172500676\n"
     ]
    },
    {
     "name": "stdout",
     "output_type": "stream",
     "text": [
      "[4, 4, 4, 4, 4, 4, 4, 4, 4, 4, 4, 4, 4, 4, 4, 4, 4, 4, 4, 4, 4, 4, 4, 4, 4, 4, 4, 4, 4]\n"
     ]
    },
    {
     "name": "stderr",
     "output_type": "stream",
     "text": [
      "INFO:tenpy.algorithms.purification:--> beta=0.100000, E_bond=-0.4756494810, max(S)=0.0532230133\n"
     ]
    },
    {
     "name": "stdout",
     "output_type": "stream",
     "text": [
      "[4, 6, 6, 6, 6, 6, 6, 6, 6, 6, 6, 6, 6, 6, 6, 6, 6, 6, 6, 6, 6, 6, 6, 6, 6, 6, 6, 6, 4]\n"
     ]
    },
    {
     "name": "stderr",
     "output_type": "stream",
     "text": [
      "INFO:tenpy.algorithms.purification:--> beta=0.150000, E_bond=-0.6767971387, max(S)=0.0967049734\n"
     ]
    },
    {
     "name": "stdout",
     "output_type": "stream",
     "text": [
      "[4, 6, 6, 6, 6, 6, 6, 6, 6, 6, 6, 6, 6, 6, 6, 6, 6, 6, 6, 6, 6, 6, 6, 6, 6, 6, 6, 6, 4]\n"
     ]
    },
    {
     "name": "stderr",
     "output_type": "stream",
     "text": [
      "INFO:tenpy.algorithms.purification:--> beta=0.200000, E_bond=-0.8441540463, max(S)=0.1411322525\n"
     ]
    },
    {
     "name": "stdout",
     "output_type": "stream",
     "text": [
      "[4, 7, 7, 7, 7, 7, 7, 7, 7, 7, 7, 7, 7, 7, 7, 7, 7, 7, 7, 7, 7, 7, 7, 7, 7, 7, 7, 7, 4]\n"
     ]
    },
    {
     "name": "stderr",
     "output_type": "stream",
     "text": [
      "INFO:tenpy.algorithms.purification:--> beta=0.250000, E_bond=-0.9781014310, max(S)=0.1827168026\n"
     ]
    },
    {
     "name": "stdout",
     "output_type": "stream",
     "text": [
      "[4, 9, 9, 9, 9, 9, 9, 9, 9, 9, 9, 9, 9, 9, 9, 9, 9, 9, 9, 9, 9, 9, 9, 9, 9, 9, 9, 9, 4]\n"
     ]
    },
    {
     "name": "stderr",
     "output_type": "stream",
     "text": [
      "INFO:tenpy.algorithms.purification:--> beta=0.300000, E_bond=-1.0825193832, max(S)=0.2197692357\n"
     ]
    },
    {
     "name": "stdout",
     "output_type": "stream",
     "text": [
      "[4, 10, 10, 10, 10, 10, 10, 10, 10, 10, 10, 10, 10, 10, 10, 10, 10, 10, 10, 10, 10, 10, 10, 10, 10, 10, 10, 10, 4]\n"
     ]
    },
    {
     "name": "stderr",
     "output_type": "stream",
     "text": [
      "INFO:tenpy.algorithms.purification:--> beta=0.350000, E_bond=-1.1626430338, max(S)=0.2518978714\n"
     ]
    },
    {
     "name": "stdout",
     "output_type": "stream",
     "text": [
      "[4, 10, 10, 10, 10, 10, 10, 10, 10, 10, 10, 10, 10, 10, 10, 10, 10, 10, 10, 10, 10, 10, 10, 10, 10, 10, 10, 10, 4]\n"
     ]
    },
    {
     "name": "stderr",
     "output_type": "stream",
     "text": [
      "INFO:tenpy.algorithms.purification:--> beta=0.400000, E_bond=-1.2236704021, max(S)=0.2793931954\n"
     ]
    },
    {
     "name": "stdout",
     "output_type": "stream",
     "text": [
      "[4, 10, 10, 10, 10, 10, 10, 10, 10, 10, 10, 10, 10, 10, 10, 10, 10, 10, 10, 10, 10, 10, 10, 10, 10, 10, 10, 11, 4]\n"
     ]
    },
    {
     "name": "stderr",
     "output_type": "stream",
     "text": [
      "INFO:tenpy.algorithms.purification:--> beta=0.450000, E_bond=-1.2701012984, max(S)=0.3028286284\n"
     ]
    },
    {
     "name": "stdout",
     "output_type": "stream",
     "text": [
      "[4, 11, 11, 11, 11, 11, 11, 11, 11, 11, 11, 11, 11, 11, 11, 11, 11, 11, 11, 11, 11, 11, 11, 11, 11, 11, 11, 11, 4]\n"
     ]
    },
    {
     "name": "stderr",
     "output_type": "stream",
     "text": [
      "INFO:tenpy.algorithms.purification:--> beta=0.500000, E_bond=-1.3055507972, max(S)=0.3228394786\n"
     ]
    },
    {
     "name": "stdout",
     "output_type": "stream",
     "text": [
      "[4, 12, 12, 12, 12, 12, 12, 12, 12, 12, 12, 12, 12, 12, 12, 12, 12, 12, 12, 12, 12, 12, 12, 12, 12, 12, 12, 12, 4]\n"
     ]
    },
    {
     "name": "stderr",
     "output_type": "stream",
     "text": [
      "INFO:tenpy.algorithms.purification:--> beta=0.550000, E_bond=-1.3328003341, max(S)=0.3400180953\n"
     ]
    },
    {
     "name": "stdout",
     "output_type": "stream",
     "text": [
      "[4, 12, 13, 13, 13, 13, 13, 13, 13, 13, 13, 13, 13, 13, 13, 13, 13, 13, 13, 13, 13, 13, 13, 13, 13, 13, 13, 12, 4]\n"
     ]
    },
    {
     "name": "stderr",
     "output_type": "stream",
     "text": [
      "INFO:tenpy.algorithms.purification:--> beta=0.600000, E_bond=-1.3539370350, max(S)=0.3548744861\n"
     ]
    },
    {
     "name": "stdout",
     "output_type": "stream",
     "text": [
      "[4, 12, 13, 13, 13, 13, 13, 13, 13, 13, 13, 13, 13, 13, 13, 13, 13, 13, 13, 13, 13, 13, 13, 13, 13, 13, 13, 12, 4]\n"
     ]
    },
    {
     "name": "stderr",
     "output_type": "stream",
     "text": [
      "INFO:tenpy.algorithms.purification:--> beta=0.650000, E_bond=-1.3705056888, max(S)=0.3678296985\n"
     ]
    },
    {
     "name": "stdout",
     "output_type": "stream",
     "text": [
      "[4, 12, 14, 14, 14, 14, 14, 14, 14, 14, 14, 14, 14, 14, 14, 14, 14, 14, 14, 14, 14, 14, 14, 14, 14, 14, 14, 12, 4]\n"
     ]
    },
    {
     "name": "stderr",
     "output_type": "stream",
     "text": [
      "INFO:tenpy.algorithms.purification:--> beta=0.700000, E_bond=-1.3836424298, max(S)=0.3792235056\n"
     ]
    },
    {
     "name": "stdout",
     "output_type": "stream",
     "text": [
      "[4, 13, 15, 15, 15, 15, 15, 15, 15, 15, 15, 15, 15, 15, 15, 15, 15, 15, 15, 15, 15, 15, 15, 15, 15, 15, 15, 13, 4]\n"
     ]
    },
    {
     "name": "stderr",
     "output_type": "stream",
     "text": [
      "INFO:tenpy.algorithms.purification:--> beta=0.750000, E_bond=-1.3941816805, max(S)=0.3893269224\n"
     ]
    },
    {
     "name": "stdout",
     "output_type": "stream",
     "text": [
      "[4, 13, 15, 15, 15, 15, 15, 15, 15, 15, 15, 15, 15, 15, 15, 15, 15, 15, 15, 15, 15, 15, 15, 15, 15, 15, 15, 13, 4]\n"
     ]
    },
    {
     "name": "stderr",
     "output_type": "stream",
     "text": [
      "INFO:tenpy.algorithms.purification:--> beta=0.800000, E_bond=-1.4027375341, max(S)=0.3983551258\n"
     ]
    },
    {
     "name": "stdout",
     "output_type": "stream",
     "text": [
      "[4, 14, 16, 16, 17, 17, 17, 17, 17, 17, 17, 17, 17, 17, 17, 17, 17, 17, 17, 17, 17, 17, 17, 17, 17, 16, 16, 14, 4]\n"
     ]
    },
    {
     "name": "stderr",
     "output_type": "stream",
     "text": [
      "INFO:tenpy.algorithms.purification:--> beta=0.850000, E_bond=-1.4097639705, max(S)=0.4064789719\n"
     ]
    },
    {
     "name": "stdout",
     "output_type": "stream",
     "text": [
      "[4, 14, 17, 17, 17, 17, 17, 17, 17, 17, 17, 17, 17, 17, 17, 17, 17, 17, 17, 17, 17, 17, 17, 17, 17, 17, 17, 14, 4]\n"
     ]
    },
    {
     "name": "stderr",
     "output_type": "stream",
     "text": [
      "INFO:tenpy.algorithms.purification:--> beta=0.900000, E_bond=-1.4155987119, max(S)=0.4138345776\n"
     ]
    },
    {
     "name": "stdout",
     "output_type": "stream",
     "text": [
      "[4, 14, 17, 17, 18, 18, 18, 18, 18, 18, 18, 18, 18, 18, 18, 18, 18, 18, 18, 18, 18, 18, 18, 18, 18, 17, 17, 14, 4]\n"
     ]
    },
    {
     "name": "stderr",
     "output_type": "stream",
     "text": [
      "INFO:tenpy.algorithms.purification:--> beta=0.950000, E_bond=-1.4204948992, max(S)=0.4205309982\n"
     ]
    },
    {
     "name": "stdout",
     "output_type": "stream",
     "text": [
      "[4, 15, 19, 19, 19, 19, 19, 19, 19, 19, 19, 19, 19, 19, 19, 19, 19, 19, 19, 19, 19, 19, 19, 19, 19, 19, 19, 15, 4]\n"
     ]
    },
    {
     "name": "stderr",
     "output_type": "stream",
     "text": [
      "INFO:tenpy.algorithms.purification:--> beta=1.000000, E_bond=-1.4246438890, max(S)=0.4266562471\n"
     ]
    },
    {
     "name": "stdout",
     "output_type": "stream",
     "text": [
      "[4, 15, 19, 19, 19, 19, 19, 19, 19, 19, 19, 19, 19, 19, 19, 19, 19, 19, 19, 19, 19, 19, 19, 19, 19, 19, 19, 15, 4]\n"
     ]
    },
    {
     "name": "stderr",
     "output_type": "stream",
     "text": [
      "INFO:tenpy.algorithms.purification:--> beta=1.050000, E_bond=-1.4281916571, max(S)=0.4322819578\n"
     ]
    },
    {
     "name": "stdout",
     "output_type": "stream",
     "text": [
      "[4, 16, 21, 21, 21, 21, 21, 21, 21, 21, 21, 21, 21, 21, 21, 21, 21, 21, 21, 21, 21, 21, 21, 21, 21, 21, 21, 15, 4]\n"
     ]
    },
    {
     "name": "stderr",
     "output_type": "stream",
     "text": [
      "INFO:tenpy.algorithms.purification:--> beta=1.100000, E_bond=-1.4312506260, max(S)=0.4374669712\n"
     ]
    },
    {
     "name": "stdout",
     "output_type": "stream",
     "text": [
      "[4, 16, 21, 21, 21, 21, 21, 21, 21, 21, 21, 21, 21, 21, 21, 21, 21, 21, 21, 21, 21, 21, 21, 21, 21, 21, 21, 16, 4]\n"
     ]
    },
    {
     "name": "stderr",
     "output_type": "stream",
     "text": [
      "INFO:tenpy.algorithms.purification:--> beta=1.150000, E_bond=-1.4339082234, max(S)=0.4422600875\n"
     ]
    },
    {
     "name": "stdout",
     "output_type": "stream",
     "text": [
      "[4, 16, 21, 21, 21, 21, 21, 21, 21, 21, 21, 21, 21, 21, 21, 21, 21, 21, 21, 21, 21, 21, 21, 21, 21, 21, 21, 16, 4]\n"
     ]
    },
    {
     "name": "stderr",
     "output_type": "stream",
     "text": [
      "INFO:tenpy.algorithms.purification:--> beta=1.200000, E_bond=-1.4362331074, max(S)=0.4467021777\n"
     ]
    },
    {
     "name": "stdout",
     "output_type": "stream",
     "text": [
      "[4, 16, 22, 23, 23, 23, 23, 23, 23, 23, 23, 23, 23, 23, 23, 23, 23, 23, 23, 23, 23, 23, 23, 23, 23, 23, 22, 16, 4]\n"
     ]
    },
    {
     "name": "stderr",
     "output_type": "stream",
     "text": [
      "INFO:tenpy.algorithms.purification:--> beta=1.250000, E_bond=-1.4382797204, max(S)=0.4508278067\n"
     ]
    },
    {
     "name": "stdout",
     "output_type": "stream",
     "text": [
      "[4, 16, 23, 23, 23, 23, 23, 23, 23, 23, 23, 23, 23, 23, 23, 23, 23, 23, 23, 23, 23, 23, 23, 23, 23, 23, 23, 16, 4]\n"
     ]
    },
    {
     "name": "stderr",
     "output_type": "stream",
     "text": [
      "INFO:tenpy.algorithms.purification:--> beta=1.300000, E_bond=-1.4400916437, max(S)=0.4546664848\n"
     ]
    },
    {
     "name": "stdout",
     "output_type": "stream",
     "text": [
      "[4, 16, 23, 23, 23, 23, 23, 23, 23, 23, 23, 23, 23, 23, 23, 23, 23, 23, 23, 23, 23, 23, 23, 23, 23, 23, 23, 16, 4]\n"
     ]
    },
    {
     "name": "stderr",
     "output_type": "stream",
     "text": [
      "INFO:tenpy.algorithms.purification:--> beta=1.350000, E_bond=-1.4417040858, max(S)=0.4582436383\n"
     ]
    },
    {
     "name": "stdout",
     "output_type": "stream",
     "text": [
      "[4, 16, 23, 24, 24, 24, 24, 24, 24, 24, 24, 24, 24, 24, 24, 24, 24, 24, 24, 24, 24, 24, 24, 24, 24, 24, 23, 16, 4]\n"
     ]
    },
    {
     "name": "stderr",
     "output_type": "stream",
     "text": [
      "INFO:tenpy.algorithms.purification:--> beta=1.400000, E_bond=-1.4431457429, max(S)=0.4615813653\n"
     ]
    },
    {
     "name": "stdout",
     "output_type": "stream",
     "text": [
      "[4, 16, 25, 25, 25, 25, 25, 25, 25, 25, 25, 25, 25, 25, 25, 25, 25, 25, 25, 25, 25, 25, 25, 25, 25, 25, 25, 16, 4]\n"
     ]
    },
    {
     "name": "stderr",
     "output_type": "stream",
     "text": [
      "INFO:tenpy.algorithms.purification:--> beta=1.450000, E_bond=-1.4444402010, max(S)=0.4646990279\n"
     ]
    },
    {
     "name": "stdout",
     "output_type": "stream",
     "text": [
      "[4, 16, 25, 25, 25, 25, 25, 25, 25, 25, 25, 25, 25, 25, 25, 25, 25, 25, 25, 25, 25, 25, 25, 25, 25, 25, 25, 16, 4]\n"
     ]
    },
    {
     "name": "stderr",
     "output_type": "stream",
     "text": [
      "INFO:tenpy.algorithms.purification:--> beta=1.500000, E_bond=-1.4456070009, max(S)=0.4676137204\n"
     ]
    },
    {
     "name": "stdout",
     "output_type": "stream",
     "text": [
      "[4, 16, 25, 25, 25, 25, 25, 25, 25, 25, 25, 25, 25, 25, 25, 25, 25, 25, 25, 25, 25, 25, 25, 25, 25, 25, 25, 16, 4]\n"
     ]
    },
    {
     "name": "stderr",
     "output_type": "stream",
     "text": [
      "INFO:tenpy.tools.params:TFIChain: reading 'L'=30\n",
      "INFO:tenpy.tools.params:TFIChain: reading 'J'=1.0\n",
      "INFO:tenpy.tools.params:TFIChain: reading 'g'=1.2\n",
      "INFO:tenpy.tools.params:PurificationTEBD: subconfig 'trunc_params'=Config(<2 options>, 'trunc_params')\n",
      "INFO:tenpy.tools.params:PurificationTEBD: reading 'dt'=0.05\n",
      "INFO:tenpy.algorithms.tebd:Calculate U for {'order': 2, 'delta_t': 0.05, 'type_evo': 'imag', 'E_offset': None, 'tau': -0.05j}\n",
      "INFO:tenpy.tools.params:trunc_params: reading 'chi_max'=100\n",
      "INFO:tenpy.tools.params:trunc_params: reading 'svd_min'=1e-08\n",
      "INFO:tenpy.algorithms.purification:--> beta=0.050000, E_bond=-0.2460708907, max(S)=0.0172500676\n"
     ]
    },
    {
     "name": "stdout",
     "output_type": "stream",
     "text": [
      "[4, 4, 4, 4, 4, 4, 4, 4, 4, 4, 4, 4, 4, 4, 4, 4, 4, 4, 4, 4, 4, 4, 4, 4, 4, 4, 4, 4, 4]\n"
     ]
    },
    {
     "name": "stderr",
     "output_type": "stream",
     "text": [
      "INFO:tenpy.algorithms.purification:--> beta=0.100000, E_bond=-0.4756494810, max(S)=0.0532230133\n"
     ]
    },
    {
     "name": "stdout",
     "output_type": "stream",
     "text": [
      "[4, 6, 6, 6, 6, 6, 6, 6, 6, 6, 6, 6, 6, 6, 6, 6, 6, 6, 6, 6, 6, 6, 6, 6, 6, 6, 6, 6, 4]\n"
     ]
    },
    {
     "name": "stderr",
     "output_type": "stream",
     "text": [
      "INFO:tenpy.algorithms.purification:--> beta=0.150000, E_bond=-0.6767971387, max(S)=0.0967049734\n"
     ]
    },
    {
     "name": "stdout",
     "output_type": "stream",
     "text": [
      "[4, 6, 6, 6, 6, 6, 6, 6, 6, 6, 6, 6, 6, 6, 6, 6, 6, 6, 6, 6, 6, 6, 6, 6, 6, 6, 6, 6, 4]\n"
     ]
    },
    {
     "name": "stderr",
     "output_type": "stream",
     "text": [
      "INFO:tenpy.algorithms.purification:--> beta=0.200000, E_bond=-0.8441540463, max(S)=0.1411322525\n"
     ]
    },
    {
     "name": "stdout",
     "output_type": "stream",
     "text": [
      "[4, 7, 7, 7, 7, 7, 7, 7, 7, 7, 7, 7, 7, 7, 7, 7, 7, 7, 7, 7, 7, 7, 7, 7, 7, 7, 7, 7, 4]\n"
     ]
    },
    {
     "name": "stderr",
     "output_type": "stream",
     "text": [
      "INFO:tenpy.algorithms.purification:--> beta=0.250000, E_bond=-0.9781014310, max(S)=0.1827168026\n"
     ]
    },
    {
     "name": "stdout",
     "output_type": "stream",
     "text": [
      "[4, 9, 9, 9, 9, 9, 9, 9, 9, 9, 9, 9, 9, 9, 9, 9, 9, 9, 9, 9, 9, 9, 9, 9, 9, 9, 9, 9, 4]\n"
     ]
    },
    {
     "name": "stderr",
     "output_type": "stream",
     "text": [
      "INFO:tenpy.algorithms.purification:--> beta=0.300000, E_bond=-1.0825193832, max(S)=0.2197692357\n"
     ]
    },
    {
     "name": "stdout",
     "output_type": "stream",
     "text": [
      "[4, 10, 10, 10, 10, 10, 10, 10, 10, 10, 10, 10, 10, 10, 10, 10, 10, 10, 10, 10, 10, 10, 10, 10, 10, 10, 10, 10, 4]\n"
     ]
    },
    {
     "name": "stderr",
     "output_type": "stream",
     "text": [
      "INFO:tenpy.algorithms.purification:--> beta=0.350000, E_bond=-1.1626430338, max(S)=0.2518978714\n"
     ]
    },
    {
     "name": "stdout",
     "output_type": "stream",
     "text": [
      "[4, 10, 10, 10, 10, 10, 10, 10, 10, 10, 10, 10, 10, 10, 10, 10, 10, 10, 10, 10, 10, 10, 10, 10, 10, 10, 10, 10, 4]\n"
     ]
    },
    {
     "name": "stderr",
     "output_type": "stream",
     "text": [
      "INFO:tenpy.algorithms.purification:--> beta=0.400000, E_bond=-1.2236704021, max(S)=0.2793931954\n"
     ]
    },
    {
     "name": "stdout",
     "output_type": "stream",
     "text": [
      "[4, 10, 10, 10, 10, 10, 10, 10, 10, 10, 10, 10, 10, 10, 10, 10, 10, 10, 10, 10, 10, 10, 10, 10, 10, 10, 10, 11, 4]\n"
     ]
    },
    {
     "name": "stderr",
     "output_type": "stream",
     "text": [
      "INFO:tenpy.algorithms.purification:--> beta=0.450000, E_bond=-1.2701012984, max(S)=0.3028286284\n"
     ]
    },
    {
     "name": "stdout",
     "output_type": "stream",
     "text": [
      "[4, 11, 11, 11, 11, 11, 11, 11, 11, 11, 11, 11, 11, 11, 11, 11, 11, 11, 11, 11, 11, 11, 11, 11, 11, 11, 11, 11, 4]\n"
     ]
    },
    {
     "name": "stderr",
     "output_type": "stream",
     "text": [
      "INFO:tenpy.algorithms.purification:--> beta=0.500000, E_bond=-1.3055507972, max(S)=0.3228394786\n"
     ]
    },
    {
     "name": "stdout",
     "output_type": "stream",
     "text": [
      "[4, 12, 12, 12, 12, 12, 12, 12, 12, 12, 12, 12, 12, 12, 12, 12, 12, 12, 12, 12, 12, 12, 12, 12, 12, 12, 12, 12, 4]\n"
     ]
    },
    {
     "name": "stderr",
     "output_type": "stream",
     "text": [
      "INFO:tenpy.algorithms.purification:--> beta=0.550000, E_bond=-1.3328003341, max(S)=0.3400180953\n"
     ]
    },
    {
     "name": "stdout",
     "output_type": "stream",
     "text": [
      "[4, 12, 13, 13, 13, 13, 13, 13, 13, 13, 13, 13, 13, 13, 13, 13, 13, 13, 13, 13, 13, 13, 13, 13, 13, 13, 13, 12, 4]\n"
     ]
    },
    {
     "name": "stderr",
     "output_type": "stream",
     "text": [
      "INFO:tenpy.algorithms.purification:--> beta=0.600000, E_bond=-1.3539370350, max(S)=0.3548744861\n"
     ]
    },
    {
     "name": "stdout",
     "output_type": "stream",
     "text": [
      "[4, 12, 13, 13, 13, 13, 13, 13, 13, 13, 13, 13, 13, 13, 13, 13, 13, 13, 13, 13, 13, 13, 13, 13, 13, 13, 13, 12, 4]\n"
     ]
    },
    {
     "name": "stderr",
     "output_type": "stream",
     "text": [
      "INFO:tenpy.algorithms.purification:--> beta=0.650000, E_bond=-1.3705056888, max(S)=0.3678296985\n"
     ]
    },
    {
     "name": "stdout",
     "output_type": "stream",
     "text": [
      "[4, 12, 14, 14, 14, 14, 14, 14, 14, 14, 14, 14, 14, 14, 14, 14, 14, 14, 14, 14, 14, 14, 14, 14, 14, 14, 14, 12, 4]\n"
     ]
    },
    {
     "name": "stderr",
     "output_type": "stream",
     "text": [
      "INFO:tenpy.algorithms.purification:--> beta=0.700000, E_bond=-1.3836424298, max(S)=0.3792235056\n"
     ]
    },
    {
     "name": "stdout",
     "output_type": "stream",
     "text": [
      "[4, 13, 15, 15, 15, 15, 15, 15, 15, 15, 15, 15, 15, 15, 15, 15, 15, 15, 15, 15, 15, 15, 15, 15, 15, 15, 15, 13, 4]\n"
     ]
    },
    {
     "name": "stderr",
     "output_type": "stream",
     "text": [
      "INFO:tenpy.algorithms.purification:--> beta=0.750000, E_bond=-1.3941816805, max(S)=0.3893269224\n"
     ]
    },
    {
     "name": "stdout",
     "output_type": "stream",
     "text": [
      "[4, 13, 15, 15, 15, 15, 15, 15, 15, 15, 15, 15, 15, 15, 15, 15, 15, 15, 15, 15, 15, 15, 15, 15, 15, 15, 15, 13, 4]\n"
     ]
    },
    {
     "name": "stderr",
     "output_type": "stream",
     "text": [
      "INFO:tenpy.algorithms.purification:--> beta=0.800000, E_bond=-1.4027375341, max(S)=0.3983551258\n"
     ]
    },
    {
     "name": "stdout",
     "output_type": "stream",
     "text": [
      "[4, 14, 16, 16, 17, 17, 17, 17, 17, 17, 17, 17, 17, 17, 17, 17, 17, 17, 17, 17, 17, 17, 17, 17, 17, 16, 16, 14, 4]\n"
     ]
    },
    {
     "name": "stderr",
     "output_type": "stream",
     "text": [
      "INFO:tenpy.algorithms.purification:--> beta=0.850000, E_bond=-1.4097639705, max(S)=0.4064789719\n"
     ]
    },
    {
     "name": "stdout",
     "output_type": "stream",
     "text": [
      "[4, 14, 17, 17, 17, 17, 17, 17, 17, 17, 17, 17, 17, 17, 17, 17, 17, 17, 17, 17, 17, 17, 17, 17, 17, 17, 17, 14, 4]\n"
     ]
    },
    {
     "name": "stderr",
     "output_type": "stream",
     "text": [
      "INFO:tenpy.algorithms.purification:--> beta=0.900000, E_bond=-1.4155987119, max(S)=0.4138345776\n"
     ]
    },
    {
     "name": "stdout",
     "output_type": "stream",
     "text": [
      "[4, 14, 17, 17, 18, 18, 18, 18, 18, 18, 18, 18, 18, 18, 18, 18, 18, 18, 18, 18, 18, 18, 18, 18, 18, 17, 17, 14, 4]\n"
     ]
    },
    {
     "name": "stderr",
     "output_type": "stream",
     "text": [
      "INFO:tenpy.algorithms.purification:--> beta=0.950000, E_bond=-1.4204948992, max(S)=0.4205309982\n"
     ]
    },
    {
     "name": "stdout",
     "output_type": "stream",
     "text": [
      "[4, 15, 19, 19, 19, 19, 19, 19, 19, 19, 19, 19, 19, 19, 19, 19, 19, 19, 19, 19, 19, 19, 19, 19, 19, 19, 19, 15, 4]\n"
     ]
    },
    {
     "name": "stderr",
     "output_type": "stream",
     "text": [
      "INFO:tenpy.algorithms.purification:--> beta=1.000000, E_bond=-1.4246438890, max(S)=0.4266562471\n"
     ]
    },
    {
     "name": "stdout",
     "output_type": "stream",
     "text": [
      "[4, 15, 19, 19, 19, 19, 19, 19, 19, 19, 19, 19, 19, 19, 19, 19, 19, 19, 19, 19, 19, 19, 19, 19, 19, 19, 19, 15, 4]\n"
     ]
    },
    {
     "name": "stderr",
     "output_type": "stream",
     "text": [
      "INFO:tenpy.algorithms.purification:--> beta=1.050000, E_bond=-1.4281916571, max(S)=0.4322819578\n"
     ]
    },
    {
     "name": "stdout",
     "output_type": "stream",
     "text": [
      "[4, 16, 21, 21, 21, 21, 21, 21, 21, 21, 21, 21, 21, 21, 21, 21, 21, 21, 21, 21, 21, 21, 21, 21, 21, 21, 21, 15, 4]\n"
     ]
    },
    {
     "name": "stderr",
     "output_type": "stream",
     "text": [
      "INFO:tenpy.algorithms.purification:--> beta=1.100000, E_bond=-1.4312506260, max(S)=0.4374669712\n"
     ]
    },
    {
     "name": "stdout",
     "output_type": "stream",
     "text": [
      "[4, 16, 21, 21, 21, 21, 21, 21, 21, 21, 21, 21, 21, 21, 21, 21, 21, 21, 21, 21, 21, 21, 21, 21, 21, 21, 21, 16, 4]\n"
     ]
    },
    {
     "name": "stderr",
     "output_type": "stream",
     "text": [
      "INFO:tenpy.algorithms.purification:--> beta=1.150000, E_bond=-1.4339082234, max(S)=0.4422600875\n"
     ]
    },
    {
     "name": "stdout",
     "output_type": "stream",
     "text": [
      "[4, 16, 21, 21, 21, 21, 21, 21, 21, 21, 21, 21, 21, 21, 21, 21, 21, 21, 21, 21, 21, 21, 21, 21, 21, 21, 21, 16, 4]\n"
     ]
    },
    {
     "name": "stderr",
     "output_type": "stream",
     "text": [
      "INFO:tenpy.algorithms.purification:--> beta=1.200000, E_bond=-1.4362331074, max(S)=0.4467021777\n"
     ]
    },
    {
     "name": "stdout",
     "output_type": "stream",
     "text": [
      "[4, 16, 22, 23, 23, 23, 23, 23, 23, 23, 23, 23, 23, 23, 23, 23, 23, 23, 23, 23, 23, 23, 23, 23, 23, 23, 22, 16, 4]\n"
     ]
    },
    {
     "name": "stderr",
     "output_type": "stream",
     "text": [
      "INFO:tenpy.algorithms.purification:--> beta=1.250000, E_bond=-1.4382797204, max(S)=0.4508278067\n"
     ]
    },
    {
     "name": "stdout",
     "output_type": "stream",
     "text": [
      "[4, 16, 23, 23, 23, 23, 23, 23, 23, 23, 23, 23, 23, 23, 23, 23, 23, 23, 23, 23, 23, 23, 23, 23, 23, 23, 23, 16, 4]\n"
     ]
    },
    {
     "name": "stderr",
     "output_type": "stream",
     "text": [
      "INFO:tenpy.algorithms.purification:--> beta=1.300000, E_bond=-1.4400916437, max(S)=0.4546664848\n"
     ]
    },
    {
     "name": "stdout",
     "output_type": "stream",
     "text": [
      "[4, 16, 23, 23, 23, 23, 23, 23, 23, 23, 23, 23, 23, 23, 23, 23, 23, 23, 23, 23, 23, 23, 23, 23, 23, 23, 23, 16, 4]\n"
     ]
    },
    {
     "name": "stderr",
     "output_type": "stream",
     "text": [
      "INFO:tenpy.algorithms.purification:--> beta=1.350000, E_bond=-1.4417040858, max(S)=0.4582436383\n"
     ]
    },
    {
     "name": "stdout",
     "output_type": "stream",
     "text": [
      "[4, 16, 23, 24, 24, 24, 24, 24, 24, 24, 24, 24, 24, 24, 24, 24, 24, 24, 24, 24, 24, 24, 24, 24, 24, 24, 23, 16, 4]\n"
     ]
    },
    {
     "name": "stderr",
     "output_type": "stream",
     "text": [
      "INFO:tenpy.algorithms.purification:--> beta=1.400000, E_bond=-1.4431457429, max(S)=0.4615813653\n"
     ]
    },
    {
     "name": "stdout",
     "output_type": "stream",
     "text": [
      "[4, 16, 25, 25, 25, 25, 25, 25, 25, 25, 25, 25, 25, 25, 25, 25, 25, 25, 25, 25, 25, 25, 25, 25, 25, 25, 25, 16, 4]\n"
     ]
    },
    {
     "name": "stderr",
     "output_type": "stream",
     "text": [
      "INFO:tenpy.algorithms.purification:--> beta=1.450000, E_bond=-1.4444402010, max(S)=0.4646990279\n"
     ]
    },
    {
     "name": "stdout",
     "output_type": "stream",
     "text": [
      "[4, 16, 25, 25, 25, 25, 25, 25, 25, 25, 25, 25, 25, 25, 25, 25, 25, 25, 25, 25, 25, 25, 25, 25, 25, 25, 25, 16, 4]\n"
     ]
    },
    {
     "name": "stderr",
     "output_type": "stream",
     "text": [
      "INFO:tenpy.algorithms.purification:--> beta=1.500000, E_bond=-1.4456070009, max(S)=0.4676137204\n"
     ]
    },
    {
     "name": "stdout",
     "output_type": "stream",
     "text": [
      "[4, 16, 25, 25, 25, 25, 25, 25, 25, 25, 25, 25, 25, 25, 25, 25, 25, 25, 25, 25, 25, 25, 25, 25, 25, 25, 25, 16, 4]\n"
     ]
    },
    {
     "name": "stderr",
     "output_type": "stream",
     "text": [
      "INFO:tenpy.tools.params:TFIChain: reading 'L'=30\n",
      "INFO:tenpy.tools.params:TFIChain: reading 'J'=1.0\n",
      "INFO:tenpy.tools.params:TFIChain: reading 'g'=1.2\n",
      "INFO:tenpy.tools.params:PurificationTEBD: subconfig 'trunc_params'=Config(<2 options>, 'trunc_params')\n",
      "INFO:tenpy.tools.params:PurificationTEBD: reading 'dt'=0.05\n",
      "INFO:tenpy.algorithms.tebd:Calculate U for {'order': 2, 'delta_t': 0.05, 'type_evo': 'imag', 'E_offset': None, 'tau': -0.05j}\n",
      "INFO:tenpy.tools.params:trunc_params: reading 'chi_max'=100\n",
      "INFO:tenpy.tools.params:trunc_params: reading 'svd_min'=1e-08\n",
      "INFO:tenpy.algorithms.purification:--> beta=0.050000, E_bond=-0.2460708907, max(S)=0.0172500676\n"
     ]
    },
    {
     "name": "stdout",
     "output_type": "stream",
     "text": [
      "[4, 4, 4, 4, 4, 4, 4, 4, 4, 4, 4, 4, 4, 4, 4, 4, 4, 4, 4, 4, 4, 4, 4, 4, 4, 4, 4, 4, 4]\n"
     ]
    },
    {
     "name": "stderr",
     "output_type": "stream",
     "text": [
      "INFO:tenpy.algorithms.purification:--> beta=0.100000, E_bond=-0.4756494810, max(S)=0.0532230133\n"
     ]
    },
    {
     "name": "stdout",
     "output_type": "stream",
     "text": [
      "[4, 6, 6, 6, 6, 6, 6, 6, 6, 6, 6, 6, 6, 6, 6, 6, 6, 6, 6, 6, 6, 6, 6, 6, 6, 6, 6, 6, 4]\n"
     ]
    },
    {
     "name": "stderr",
     "output_type": "stream",
     "text": [
      "INFO:tenpy.algorithms.purification:--> beta=0.150000, E_bond=-0.6767971387, max(S)=0.0967049734\n"
     ]
    },
    {
     "name": "stdout",
     "output_type": "stream",
     "text": [
      "[4, 6, 6, 6, 6, 6, 6, 6, 6, 6, 6, 6, 6, 6, 6, 6, 6, 6, 6, 6, 6, 6, 6, 6, 6, 6, 6, 6, 4]\n"
     ]
    },
    {
     "name": "stderr",
     "output_type": "stream",
     "text": [
      "INFO:tenpy.algorithms.purification:--> beta=0.200000, E_bond=-0.8441540463, max(S)=0.1411322525\n"
     ]
    },
    {
     "name": "stdout",
     "output_type": "stream",
     "text": [
      "[4, 7, 7, 7, 7, 7, 7, 7, 7, 7, 7, 7, 7, 7, 7, 7, 7, 7, 7, 7, 7, 7, 7, 7, 7, 7, 7, 7, 4]\n"
     ]
    },
    {
     "name": "stderr",
     "output_type": "stream",
     "text": [
      "INFO:tenpy.algorithms.purification:--> beta=0.250000, E_bond=-0.9781014310, max(S)=0.1827168026\n"
     ]
    },
    {
     "name": "stdout",
     "output_type": "stream",
     "text": [
      "[4, 9, 9, 9, 9, 9, 9, 9, 9, 9, 9, 9, 9, 9, 9, 9, 9, 9, 9, 9, 9, 9, 9, 9, 9, 9, 9, 9, 4]\n"
     ]
    },
    {
     "name": "stderr",
     "output_type": "stream",
     "text": [
      "INFO:tenpy.algorithms.purification:--> beta=0.300000, E_bond=-1.0825193832, max(S)=0.2197692357\n"
     ]
    },
    {
     "name": "stdout",
     "output_type": "stream",
     "text": [
      "[4, 10, 10, 10, 10, 10, 10, 10, 10, 10, 10, 10, 10, 10, 10, 10, 10, 10, 10, 10, 10, 10, 10, 10, 10, 10, 10, 10, 4]\n"
     ]
    },
    {
     "name": "stderr",
     "output_type": "stream",
     "text": [
      "INFO:tenpy.algorithms.purification:--> beta=0.350000, E_bond=-1.1626430338, max(S)=0.2518978714\n"
     ]
    },
    {
     "name": "stdout",
     "output_type": "stream",
     "text": [
      "[4, 10, 10, 10, 10, 10, 10, 10, 10, 10, 10, 10, 10, 10, 10, 10, 10, 10, 10, 10, 10, 10, 10, 10, 10, 10, 10, 10, 4]\n"
     ]
    },
    {
     "name": "stderr",
     "output_type": "stream",
     "text": [
      "INFO:tenpy.algorithms.purification:--> beta=0.400000, E_bond=-1.2236704021, max(S)=0.2793931954\n"
     ]
    },
    {
     "name": "stdout",
     "output_type": "stream",
     "text": [
      "[4, 10, 10, 10, 10, 10, 10, 10, 10, 10, 10, 10, 10, 10, 10, 10, 10, 10, 10, 10, 10, 10, 10, 10, 10, 10, 10, 11, 4]\n"
     ]
    },
    {
     "name": "stderr",
     "output_type": "stream",
     "text": [
      "INFO:tenpy.algorithms.purification:--> beta=0.450000, E_bond=-1.2701012984, max(S)=0.3028286284\n"
     ]
    },
    {
     "name": "stdout",
     "output_type": "stream",
     "text": [
      "[4, 11, 11, 11, 11, 11, 11, 11, 11, 11, 11, 11, 11, 11, 11, 11, 11, 11, 11, 11, 11, 11, 11, 11, 11, 11, 11, 11, 4]\n"
     ]
    },
    {
     "name": "stderr",
     "output_type": "stream",
     "text": [
      "INFO:tenpy.algorithms.purification:--> beta=0.500000, E_bond=-1.3055507972, max(S)=0.3228394786\n"
     ]
    },
    {
     "name": "stdout",
     "output_type": "stream",
     "text": [
      "[4, 12, 12, 12, 12, 12, 12, 12, 12, 12, 12, 12, 12, 12, 12, 12, 12, 12, 12, 12, 12, 12, 12, 12, 12, 12, 12, 12, 4]\n"
     ]
    },
    {
     "name": "stderr",
     "output_type": "stream",
     "text": [
      "INFO:tenpy.algorithms.purification:--> beta=0.550000, E_bond=-1.3328003341, max(S)=0.3400180953\n"
     ]
    },
    {
     "name": "stdout",
     "output_type": "stream",
     "text": [
      "[4, 12, 13, 13, 13, 13, 13, 13, 13, 13, 13, 13, 13, 13, 13, 13, 13, 13, 13, 13, 13, 13, 13, 13, 13, 13, 13, 12, 4]\n"
     ]
    },
    {
     "name": "stderr",
     "output_type": "stream",
     "text": [
      "INFO:tenpy.algorithms.purification:--> beta=0.600000, E_bond=-1.3539370350, max(S)=0.3548744861\n"
     ]
    },
    {
     "name": "stdout",
     "output_type": "stream",
     "text": [
      "[4, 12, 13, 13, 13, 13, 13, 13, 13, 13, 13, 13, 13, 13, 13, 13, 13, 13, 13, 13, 13, 13, 13, 13, 13, 13, 13, 12, 4]\n"
     ]
    },
    {
     "name": "stderr",
     "output_type": "stream",
     "text": [
      "INFO:tenpy.algorithms.purification:--> beta=0.650000, E_bond=-1.3705056888, max(S)=0.3678296985\n"
     ]
    },
    {
     "name": "stdout",
     "output_type": "stream",
     "text": [
      "[4, 12, 14, 14, 14, 14, 14, 14, 14, 14, 14, 14, 14, 14, 14, 14, 14, 14, 14, 14, 14, 14, 14, 14, 14, 14, 14, 12, 4]\n"
     ]
    },
    {
     "name": "stderr",
     "output_type": "stream",
     "text": [
      "INFO:tenpy.algorithms.purification:--> beta=0.700000, E_bond=-1.3836424298, max(S)=0.3792235056\n"
     ]
    },
    {
     "name": "stdout",
     "output_type": "stream",
     "text": [
      "[4, 13, 15, 15, 15, 15, 15, 15, 15, 15, 15, 15, 15, 15, 15, 15, 15, 15, 15, 15, 15, 15, 15, 15, 15, 15, 15, 13, 4]\n"
     ]
    },
    {
     "name": "stderr",
     "output_type": "stream",
     "text": [
      "INFO:tenpy.algorithms.purification:--> beta=0.750000, E_bond=-1.3941816805, max(S)=0.3893269224\n"
     ]
    },
    {
     "name": "stdout",
     "output_type": "stream",
     "text": [
      "[4, 13, 15, 15, 15, 15, 15, 15, 15, 15, 15, 15, 15, 15, 15, 15, 15, 15, 15, 15, 15, 15, 15, 15, 15, 15, 15, 13, 4]\n"
     ]
    },
    {
     "name": "stderr",
     "output_type": "stream",
     "text": [
      "INFO:tenpy.algorithms.purification:--> beta=0.800000, E_bond=-1.4027375341, max(S)=0.3983551258\n"
     ]
    },
    {
     "name": "stdout",
     "output_type": "stream",
     "text": [
      "[4, 14, 16, 16, 17, 17, 17, 17, 17, 17, 17, 17, 17, 17, 17, 17, 17, 17, 17, 17, 17, 17, 17, 17, 17, 16, 16, 14, 4]\n"
     ]
    },
    {
     "name": "stderr",
     "output_type": "stream",
     "text": [
      "INFO:tenpy.algorithms.purification:--> beta=0.850000, E_bond=-1.4097639705, max(S)=0.4064789719\n"
     ]
    },
    {
     "name": "stdout",
     "output_type": "stream",
     "text": [
      "[4, 14, 17, 17, 17, 17, 17, 17, 17, 17, 17, 17, 17, 17, 17, 17, 17, 17, 17, 17, 17, 17, 17, 17, 17, 17, 17, 14, 4]\n"
     ]
    },
    {
     "name": "stderr",
     "output_type": "stream",
     "text": [
      "INFO:tenpy.algorithms.purification:--> beta=0.900000, E_bond=-1.4155987119, max(S)=0.4138345776\n"
     ]
    },
    {
     "name": "stdout",
     "output_type": "stream",
     "text": [
      "[4, 14, 17, 17, 18, 18, 18, 18, 18, 18, 18, 18, 18, 18, 18, 18, 18, 18, 18, 18, 18, 18, 18, 18, 18, 17, 17, 14, 4]\n"
     ]
    },
    {
     "name": "stderr",
     "output_type": "stream",
     "text": [
      "INFO:tenpy.algorithms.purification:--> beta=0.950000, E_bond=-1.4204948992, max(S)=0.4205309982\n"
     ]
    },
    {
     "name": "stdout",
     "output_type": "stream",
     "text": [
      "[4, 15, 19, 19, 19, 19, 19, 19, 19, 19, 19, 19, 19, 19, 19, 19, 19, 19, 19, 19, 19, 19, 19, 19, 19, 19, 19, 15, 4]\n"
     ]
    },
    {
     "name": "stderr",
     "output_type": "stream",
     "text": [
      "INFO:tenpy.algorithms.purification:--> beta=1.000000, E_bond=-1.4246438890, max(S)=0.4266562471\n"
     ]
    },
    {
     "name": "stdout",
     "output_type": "stream",
     "text": [
      "[4, 15, 19, 19, 19, 19, 19, 19, 19, 19, 19, 19, 19, 19, 19, 19, 19, 19, 19, 19, 19, 19, 19, 19, 19, 19, 19, 15, 4]\n"
     ]
    },
    {
     "name": "stderr",
     "output_type": "stream",
     "text": [
      "INFO:tenpy.algorithms.purification:--> beta=1.050000, E_bond=-1.4281916571, max(S)=0.4322819578\n"
     ]
    },
    {
     "name": "stdout",
     "output_type": "stream",
     "text": [
      "[4, 16, 21, 21, 21, 21, 21, 21, 21, 21, 21, 21, 21, 21, 21, 21, 21, 21, 21, 21, 21, 21, 21, 21, 21, 21, 21, 15, 4]\n"
     ]
    },
    {
     "name": "stderr",
     "output_type": "stream",
     "text": [
      "INFO:tenpy.algorithms.purification:--> beta=1.100000, E_bond=-1.4312506260, max(S)=0.4374669712\n"
     ]
    },
    {
     "name": "stdout",
     "output_type": "stream",
     "text": [
      "[4, 16, 21, 21, 21, 21, 21, 21, 21, 21, 21, 21, 21, 21, 21, 21, 21, 21, 21, 21, 21, 21, 21, 21, 21, 21, 21, 16, 4]\n"
     ]
    },
    {
     "name": "stderr",
     "output_type": "stream",
     "text": [
      "INFO:tenpy.algorithms.purification:--> beta=1.150000, E_bond=-1.4339082234, max(S)=0.4422600875\n"
     ]
    },
    {
     "name": "stdout",
     "output_type": "stream",
     "text": [
      "[4, 16, 21, 21, 21, 21, 21, 21, 21, 21, 21, 21, 21, 21, 21, 21, 21, 21, 21, 21, 21, 21, 21, 21, 21, 21, 21, 16, 4]\n"
     ]
    },
    {
     "name": "stderr",
     "output_type": "stream",
     "text": [
      "INFO:tenpy.algorithms.purification:--> beta=1.200000, E_bond=-1.4362331074, max(S)=0.4467021777\n"
     ]
    },
    {
     "name": "stdout",
     "output_type": "stream",
     "text": [
      "[4, 16, 22, 23, 23, 23, 23, 23, 23, 23, 23, 23, 23, 23, 23, 23, 23, 23, 23, 23, 23, 23, 23, 23, 23, 23, 22, 16, 4]\n"
     ]
    },
    {
     "name": "stderr",
     "output_type": "stream",
     "text": [
      "INFO:tenpy.algorithms.purification:--> beta=1.250000, E_bond=-1.4382797204, max(S)=0.4508278067\n"
     ]
    },
    {
     "name": "stdout",
     "output_type": "stream",
     "text": [
      "[4, 16, 23, 23, 23, 23, 23, 23, 23, 23, 23, 23, 23, 23, 23, 23, 23, 23, 23, 23, 23, 23, 23, 23, 23, 23, 23, 16, 4]\n"
     ]
    },
    {
     "name": "stderr",
     "output_type": "stream",
     "text": [
      "INFO:tenpy.algorithms.purification:--> beta=1.300000, E_bond=-1.4400916437, max(S)=0.4546664848\n"
     ]
    },
    {
     "name": "stdout",
     "output_type": "stream",
     "text": [
      "[4, 16, 23, 23, 23, 23, 23, 23, 23, 23, 23, 23, 23, 23, 23, 23, 23, 23, 23, 23, 23, 23, 23, 23, 23, 23, 23, 16, 4]\n"
     ]
    },
    {
     "name": "stderr",
     "output_type": "stream",
     "text": [
      "INFO:tenpy.algorithms.purification:--> beta=1.350000, E_bond=-1.4417040858, max(S)=0.4582436383\n"
     ]
    },
    {
     "name": "stdout",
     "output_type": "stream",
     "text": [
      "[4, 16, 23, 24, 24, 24, 24, 24, 24, 24, 24, 24, 24, 24, 24, 24, 24, 24, 24, 24, 24, 24, 24, 24, 24, 24, 23, 16, 4]\n"
     ]
    },
    {
     "name": "stderr",
     "output_type": "stream",
     "text": [
      "INFO:tenpy.algorithms.purification:--> beta=1.400000, E_bond=-1.4431457429, max(S)=0.4615813653\n"
     ]
    },
    {
     "name": "stdout",
     "output_type": "stream",
     "text": [
      "[4, 16, 25, 25, 25, 25, 25, 25, 25, 25, 25, 25, 25, 25, 25, 25, 25, 25, 25, 25, 25, 25, 25, 25, 25, 25, 25, 16, 4]\n"
     ]
    },
    {
     "name": "stderr",
     "output_type": "stream",
     "text": [
      "INFO:tenpy.algorithms.purification:--> beta=1.450000, E_bond=-1.4444402010, max(S)=0.4646990279\n"
     ]
    },
    {
     "name": "stdout",
     "output_type": "stream",
     "text": [
      "[4, 16, 25, 25, 25, 25, 25, 25, 25, 25, 25, 25, 25, 25, 25, 25, 25, 25, 25, 25, 25, 25, 25, 25, 25, 25, 25, 16, 4]\n"
     ]
    },
    {
     "name": "stderr",
     "output_type": "stream",
     "text": [
      "INFO:tenpy.algorithms.purification:--> beta=1.500000, E_bond=-1.4456070009, max(S)=0.4676137204\n"
     ]
    },
    {
     "name": "stdout",
     "output_type": "stream",
     "text": [
      "[4, 16, 25, 25, 25, 25, 25, 25, 25, 25, 25, 25, 25, 25, 25, 25, 25, 25, 25, 25, 25, 25, 25, 25, 25, 25, 25, 16, 4]\n"
     ]
    },
    {
     "name": "stderr",
     "output_type": "stream",
     "text": [
      "INFO:tenpy.tools.params:TFIChain: reading 'L'=30\n",
      "INFO:tenpy.tools.params:TFIChain: reading 'J'=1.0\n",
      "INFO:tenpy.tools.params:TFIChain: reading 'g'=1.2\n",
      "INFO:tenpy.tools.params:PurificationTEBD: subconfig 'trunc_params'=Config(<2 options>, 'trunc_params')\n",
      "INFO:tenpy.tools.params:PurificationTEBD: reading 'dt'=0.05\n",
      "INFO:tenpy.algorithms.tebd:Calculate U for {'order': 2, 'delta_t': 0.05, 'type_evo': 'imag', 'E_offset': None, 'tau': -0.05j}\n",
      "INFO:tenpy.tools.params:trunc_params: reading 'chi_max'=100\n",
      "INFO:tenpy.tools.params:trunc_params: reading 'svd_min'=1e-08\n",
      "INFO:tenpy.algorithms.purification:--> beta=0.050000, E_bond=-0.2460708907, max(S)=0.0172500676\n"
     ]
    },
    {
     "name": "stdout",
     "output_type": "stream",
     "text": [
      "[4, 4, 4, 4, 4, 4, 4, 4, 4, 4, 4, 4, 4, 4, 4, 4, 4, 4, 4, 4, 4, 4, 4, 4, 4, 4, 4, 4, 4]\n"
     ]
    },
    {
     "name": "stderr",
     "output_type": "stream",
     "text": [
      "INFO:tenpy.algorithms.purification:--> beta=0.100000, E_bond=-0.4756494810, max(S)=0.0532230133\n"
     ]
    },
    {
     "name": "stdout",
     "output_type": "stream",
     "text": [
      "[4, 6, 6, 6, 6, 6, 6, 6, 6, 6, 6, 6, 6, 6, 6, 6, 6, 6, 6, 6, 6, 6, 6, 6, 6, 6, 6, 6, 4]\n"
     ]
    },
    {
     "name": "stderr",
     "output_type": "stream",
     "text": [
      "INFO:tenpy.algorithms.purification:--> beta=0.150000, E_bond=-0.6767971387, max(S)=0.0967049734\n"
     ]
    },
    {
     "name": "stdout",
     "output_type": "stream",
     "text": [
      "[4, 6, 6, 6, 6, 6, 6, 6, 6, 6, 6, 6, 6, 6, 6, 6, 6, 6, 6, 6, 6, 6, 6, 6, 6, 6, 6, 6, 4]\n"
     ]
    },
    {
     "name": "stderr",
     "output_type": "stream",
     "text": [
      "INFO:tenpy.algorithms.purification:--> beta=0.200000, E_bond=-0.8441540463, max(S)=0.1411322525\n"
     ]
    },
    {
     "name": "stdout",
     "output_type": "stream",
     "text": [
      "[4, 7, 7, 7, 7, 7, 7, 7, 7, 7, 7, 7, 7, 7, 7, 7, 7, 7, 7, 7, 7, 7, 7, 7, 7, 7, 7, 7, 4]\n"
     ]
    },
    {
     "name": "stderr",
     "output_type": "stream",
     "text": [
      "INFO:tenpy.algorithms.purification:--> beta=0.250000, E_bond=-0.9781014310, max(S)=0.1827168026\n"
     ]
    },
    {
     "name": "stdout",
     "output_type": "stream",
     "text": [
      "[4, 9, 9, 9, 9, 9, 9, 9, 9, 9, 9, 9, 9, 9, 9, 9, 9, 9, 9, 9, 9, 9, 9, 9, 9, 9, 9, 9, 4]\n"
     ]
    },
    {
     "name": "stderr",
     "output_type": "stream",
     "text": [
      "INFO:tenpy.algorithms.purification:--> beta=0.300000, E_bond=-1.0825193832, max(S)=0.2197692357\n"
     ]
    },
    {
     "name": "stdout",
     "output_type": "stream",
     "text": [
      "[4, 10, 10, 10, 10, 10, 10, 10, 10, 10, 10, 10, 10, 10, 10, 10, 10, 10, 10, 10, 10, 10, 10, 10, 10, 10, 10, 10, 4]\n"
     ]
    },
    {
     "name": "stderr",
     "output_type": "stream",
     "text": [
      "INFO:tenpy.algorithms.purification:--> beta=0.350000, E_bond=-1.1626430338, max(S)=0.2518978714\n"
     ]
    },
    {
     "name": "stdout",
     "output_type": "stream",
     "text": [
      "[4, 10, 10, 10, 10, 10, 10, 10, 10, 10, 10, 10, 10, 10, 10, 10, 10, 10, 10, 10, 10, 10, 10, 10, 10, 10, 10, 10, 4]\n"
     ]
    },
    {
     "name": "stderr",
     "output_type": "stream",
     "text": [
      "INFO:tenpy.algorithms.purification:--> beta=0.400000, E_bond=-1.2236704021, max(S)=0.2793931954\n"
     ]
    },
    {
     "name": "stdout",
     "output_type": "stream",
     "text": [
      "[4, 10, 10, 10, 10, 10, 10, 10, 10, 10, 10, 10, 10, 10, 10, 10, 10, 10, 10, 10, 10, 10, 10, 10, 10, 10, 10, 11, 4]\n"
     ]
    },
    {
     "name": "stderr",
     "output_type": "stream",
     "text": [
      "INFO:tenpy.algorithms.purification:--> beta=0.450000, E_bond=-1.2701012984, max(S)=0.3028286284\n"
     ]
    },
    {
     "name": "stdout",
     "output_type": "stream",
     "text": [
      "[4, 11, 11, 11, 11, 11, 11, 11, 11, 11, 11, 11, 11, 11, 11, 11, 11, 11, 11, 11, 11, 11, 11, 11, 11, 11, 11, 11, 4]\n"
     ]
    },
    {
     "name": "stderr",
     "output_type": "stream",
     "text": [
      "INFO:tenpy.algorithms.purification:--> beta=0.500000, E_bond=-1.3055507972, max(S)=0.3228394786\n"
     ]
    },
    {
     "name": "stdout",
     "output_type": "stream",
     "text": [
      "[4, 12, 12, 12, 12, 12, 12, 12, 12, 12, 12, 12, 12, 12, 12, 12, 12, 12, 12, 12, 12, 12, 12, 12, 12, 12, 12, 12, 4]\n"
     ]
    },
    {
     "name": "stderr",
     "output_type": "stream",
     "text": [
      "INFO:tenpy.algorithms.purification:--> beta=0.550000, E_bond=-1.3328003341, max(S)=0.3400180953\n"
     ]
    },
    {
     "name": "stdout",
     "output_type": "stream",
     "text": [
      "[4, 12, 13, 13, 13, 13, 13, 13, 13, 13, 13, 13, 13, 13, 13, 13, 13, 13, 13, 13, 13, 13, 13, 13, 13, 13, 13, 12, 4]\n"
     ]
    },
    {
     "name": "stderr",
     "output_type": "stream",
     "text": [
      "INFO:tenpy.algorithms.purification:--> beta=0.600000, E_bond=-1.3539370350, max(S)=0.3548744861\n"
     ]
    },
    {
     "name": "stdout",
     "output_type": "stream",
     "text": [
      "[4, 12, 13, 13, 13, 13, 13, 13, 13, 13, 13, 13, 13, 13, 13, 13, 13, 13, 13, 13, 13, 13, 13, 13, 13, 13, 13, 12, 4]\n"
     ]
    },
    {
     "name": "stderr",
     "output_type": "stream",
     "text": [
      "INFO:tenpy.algorithms.purification:--> beta=0.650000, E_bond=-1.3705056888, max(S)=0.3678296985\n"
     ]
    },
    {
     "name": "stdout",
     "output_type": "stream",
     "text": [
      "[4, 12, 14, 14, 14, 14, 14, 14, 14, 14, 14, 14, 14, 14, 14, 14, 14, 14, 14, 14, 14, 14, 14, 14, 14, 14, 14, 12, 4]\n"
     ]
    },
    {
     "name": "stderr",
     "output_type": "stream",
     "text": [
      "INFO:tenpy.algorithms.purification:--> beta=0.700000, E_bond=-1.3836424298, max(S)=0.3792235056\n"
     ]
    },
    {
     "name": "stdout",
     "output_type": "stream",
     "text": [
      "[4, 13, 15, 15, 15, 15, 15, 15, 15, 15, 15, 15, 15, 15, 15, 15, 15, 15, 15, 15, 15, 15, 15, 15, 15, 15, 15, 13, 4]\n"
     ]
    },
    {
     "name": "stderr",
     "output_type": "stream",
     "text": [
      "INFO:tenpy.algorithms.purification:--> beta=0.750000, E_bond=-1.3941816805, max(S)=0.3893269224\n"
     ]
    },
    {
     "name": "stdout",
     "output_type": "stream",
     "text": [
      "[4, 13, 15, 15, 15, 15, 15, 15, 15, 15, 15, 15, 15, 15, 15, 15, 15, 15, 15, 15, 15, 15, 15, 15, 15, 15, 15, 13, 4]\n"
     ]
    },
    {
     "name": "stderr",
     "output_type": "stream",
     "text": [
      "INFO:tenpy.algorithms.purification:--> beta=0.800000, E_bond=-1.4027375341, max(S)=0.3983551258\n"
     ]
    },
    {
     "name": "stdout",
     "output_type": "stream",
     "text": [
      "[4, 14, 16, 16, 17, 17, 17, 17, 17, 17, 17, 17, 17, 17, 17, 17, 17, 17, 17, 17, 17, 17, 17, 17, 17, 16, 16, 14, 4]\n"
     ]
    },
    {
     "name": "stderr",
     "output_type": "stream",
     "text": [
      "INFO:tenpy.algorithms.purification:--> beta=0.850000, E_bond=-1.4097639705, max(S)=0.4064789719\n"
     ]
    },
    {
     "name": "stdout",
     "output_type": "stream",
     "text": [
      "[4, 14, 17, 17, 17, 17, 17, 17, 17, 17, 17, 17, 17, 17, 17, 17, 17, 17, 17, 17, 17, 17, 17, 17, 17, 17, 17, 14, 4]\n"
     ]
    },
    {
     "name": "stderr",
     "output_type": "stream",
     "text": [
      "INFO:tenpy.algorithms.purification:--> beta=0.900000, E_bond=-1.4155987119, max(S)=0.4138345776\n"
     ]
    },
    {
     "name": "stdout",
     "output_type": "stream",
     "text": [
      "[4, 14, 17, 17, 18, 18, 18, 18, 18, 18, 18, 18, 18, 18, 18, 18, 18, 18, 18, 18, 18, 18, 18, 18, 18, 17, 17, 14, 4]\n"
     ]
    },
    {
     "name": "stderr",
     "output_type": "stream",
     "text": [
      "INFO:tenpy.algorithms.purification:--> beta=0.950000, E_bond=-1.4204948992, max(S)=0.4205309982\n"
     ]
    },
    {
     "name": "stdout",
     "output_type": "stream",
     "text": [
      "[4, 15, 19, 19, 19, 19, 19, 19, 19, 19, 19, 19, 19, 19, 19, 19, 19, 19, 19, 19, 19, 19, 19, 19, 19, 19, 19, 15, 4]\n"
     ]
    },
    {
     "name": "stderr",
     "output_type": "stream",
     "text": [
      "INFO:tenpy.algorithms.purification:--> beta=1.000000, E_bond=-1.4246438890, max(S)=0.4266562471\n"
     ]
    },
    {
     "name": "stdout",
     "output_type": "stream",
     "text": [
      "[4, 15, 19, 19, 19, 19, 19, 19, 19, 19, 19, 19, 19, 19, 19, 19, 19, 19, 19, 19, 19, 19, 19, 19, 19, 19, 19, 15, 4]\n"
     ]
    },
    {
     "name": "stderr",
     "output_type": "stream",
     "text": [
      "INFO:tenpy.algorithms.purification:--> beta=1.050000, E_bond=-1.4281916571, max(S)=0.4322819578\n"
     ]
    },
    {
     "name": "stdout",
     "output_type": "stream",
     "text": [
      "[4, 16, 21, 21, 21, 21, 21, 21, 21, 21, 21, 21, 21, 21, 21, 21, 21, 21, 21, 21, 21, 21, 21, 21, 21, 21, 21, 15, 4]\n"
     ]
    },
    {
     "name": "stderr",
     "output_type": "stream",
     "text": [
      "INFO:tenpy.algorithms.purification:--> beta=1.100000, E_bond=-1.4312506260, max(S)=0.4374669712\n"
     ]
    },
    {
     "name": "stdout",
     "output_type": "stream",
     "text": [
      "[4, 16, 21, 21, 21, 21, 21, 21, 21, 21, 21, 21, 21, 21, 21, 21, 21, 21, 21, 21, 21, 21, 21, 21, 21, 21, 21, 16, 4]\n"
     ]
    },
    {
     "name": "stderr",
     "output_type": "stream",
     "text": [
      "INFO:tenpy.algorithms.purification:--> beta=1.150000, E_bond=-1.4339082234, max(S)=0.4422600875\n"
     ]
    },
    {
     "name": "stdout",
     "output_type": "stream",
     "text": [
      "[4, 16, 21, 21, 21, 21, 21, 21, 21, 21, 21, 21, 21, 21, 21, 21, 21, 21, 21, 21, 21, 21, 21, 21, 21, 21, 21, 16, 4]\n"
     ]
    },
    {
     "name": "stderr",
     "output_type": "stream",
     "text": [
      "INFO:tenpy.algorithms.purification:--> beta=1.200000, E_bond=-1.4362331074, max(S)=0.4467021777\n"
     ]
    },
    {
     "name": "stdout",
     "output_type": "stream",
     "text": [
      "[4, 16, 22, 23, 23, 23, 23, 23, 23, 23, 23, 23, 23, 23, 23, 23, 23, 23, 23, 23, 23, 23, 23, 23, 23, 23, 22, 16, 4]\n"
     ]
    },
    {
     "name": "stderr",
     "output_type": "stream",
     "text": [
      "INFO:tenpy.algorithms.purification:--> beta=1.250000, E_bond=-1.4382797204, max(S)=0.4508278067\n"
     ]
    },
    {
     "name": "stdout",
     "output_type": "stream",
     "text": [
      "[4, 16, 23, 23, 23, 23, 23, 23, 23, 23, 23, 23, 23, 23, 23, 23, 23, 23, 23, 23, 23, 23, 23, 23, 23, 23, 23, 16, 4]\n"
     ]
    },
    {
     "name": "stderr",
     "output_type": "stream",
     "text": [
      "INFO:tenpy.algorithms.purification:--> beta=1.300000, E_bond=-1.4400916437, max(S)=0.4546664848\n"
     ]
    },
    {
     "name": "stdout",
     "output_type": "stream",
     "text": [
      "[4, 16, 23, 23, 23, 23, 23, 23, 23, 23, 23, 23, 23, 23, 23, 23, 23, 23, 23, 23, 23, 23, 23, 23, 23, 23, 23, 16, 4]\n"
     ]
    },
    {
     "name": "stderr",
     "output_type": "stream",
     "text": [
      "INFO:tenpy.algorithms.purification:--> beta=1.350000, E_bond=-1.4417040858, max(S)=0.4582436383\n"
     ]
    },
    {
     "name": "stdout",
     "output_type": "stream",
     "text": [
      "[4, 16, 23, 24, 24, 24, 24, 24, 24, 24, 24, 24, 24, 24, 24, 24, 24, 24, 24, 24, 24, 24, 24, 24, 24, 24, 23, 16, 4]\n"
     ]
    },
    {
     "name": "stderr",
     "output_type": "stream",
     "text": [
      "INFO:tenpy.algorithms.purification:--> beta=1.400000, E_bond=-1.4431457429, max(S)=0.4615813653\n"
     ]
    },
    {
     "name": "stdout",
     "output_type": "stream",
     "text": [
      "[4, 16, 25, 25, 25, 25, 25, 25, 25, 25, 25, 25, 25, 25, 25, 25, 25, 25, 25, 25, 25, 25, 25, 25, 25, 25, 25, 16, 4]\n"
     ]
    },
    {
     "name": "stderr",
     "output_type": "stream",
     "text": [
      "INFO:tenpy.algorithms.purification:--> beta=1.450000, E_bond=-1.4444402010, max(S)=0.4646990279\n"
     ]
    },
    {
     "name": "stdout",
     "output_type": "stream",
     "text": [
      "[4, 16, 25, 25, 25, 25, 25, 25, 25, 25, 25, 25, 25, 25, 25, 25, 25, 25, 25, 25, 25, 25, 25, 25, 25, 25, 25, 16, 4]\n"
     ]
    },
    {
     "name": "stderr",
     "output_type": "stream",
     "text": [
      "INFO:tenpy.algorithms.purification:--> beta=1.500000, E_bond=-1.4456070009, max(S)=0.4676137204\n"
     ]
    },
    {
     "name": "stdout",
     "output_type": "stream",
     "text": [
      "[4, 16, 25, 25, 25, 25, 25, 25, 25, 25, 25, 25, 25, 25, 25, 25, 25, 25, 25, 25, 25, 25, 25, 25, 25, 25, 25, 16, 4]\n"
     ]
    }
   ],
   "source": [
    "data_dict = {}\n",
    "for ns in [10, 25, 50, 100, 250, 500]:\n",
    "    data_tebd = imag_tebd(L=30, beta_max=3.0, num_samples=ns)\n",
    "    data_dict[ns] = data_tebd"
   ]
  },
  {
   "cell_type": "code",
   "execution_count": 12,
   "id": "cd3406ee-1888-4702-aa39-261a3c50f707",
   "metadata": {},
   "outputs": [
    {
     "name": "stderr",
     "output_type": "stream",
     "text": [
      "/home/sajant/tenpy/tenpy/tools/params.py:232: UserWarning: unused options for config PurificationTEBD:\n",
      "['N_steps', 'order']\n",
      "  warnings.warn(msg.format(keys=sorted(unused), name=self.name))\n"
     ]
    },
    {
     "data": {
      "image/png": "[encoded data removed]",
      "text/plain": [
       "<Figure size 640x480 with 1 Axes>"
      ]
     },
     "metadata": {},
     "output_type": "display_data"
    },
    {
     "data": {
      "image/png": "[encoded data removed]",
      "text/plain": [
       "<Figure size 640x480 with 1 Axes>"
      ]
     },
     "metadata": {},
     "output_type": "display_data"
    },
    {
     "data": {
      "image/png": "[encoded data removed]",
      "text/plain": [
       "<Figure size 640x480 with 1 Axes>"
      ]
     },
     "metadata": {},
     "output_type": "display_data"
    },
    {
     "data": {
      "image/png": "[encoded data removed]",
      "text/plain": [
       "<Figure size 640x480 with 1 Axes>"
      ]
     },
     "metadata": {},
     "output_type": "display_data"
    },
    {
     "data": {
      "image/png": "[encoded data removed]",
      "text/plain": [
       "<Figure size 640x480 with 1 Axes>"
      ]
     },
     "metadata": {},
     "output_type": "display_data"
    },
    {
     "data": {
      "image/png": "[encoded data removed]",
      "text/plain": [
       "<Figure size 640x480 with 1 Axes>"
      ]
     },
     "metadata": {},
     "output_type": "display_data"
    }
   ],
   "source": [
    "for ns in [10, 25, 50, 100, 250, 500]:\n",
    "    plt.plot(data_dict[ns]['beta'], np.sum(data_dict[ns]['Sz'], axis=1), label='TEBD')\n",
    "    plt.plot(data_dict[ns]['beta'], np.sum(data_dict[ns]['Sz_sample_sq'], axis=1), '.', label='TEBD; sampling q')\n",
    "    plt.plot(data_dict[ns]['beta'], np.sum(data_dict[ns]['Sz_sample_nsq'], axis=1), '.', label='TEBD; tracing q')\n",
    "    \n",
    "    plt.legend()\n",
    "    plt.xlabel(r'$\\beta$')\n",
    "    plt.ylabel(r'total $S^z$')\n",
    "    plt.title(f\"Number of samples: {ns}\")\n",
    "    plt.show()"
   ]
  },
  {
   "cell_type": "code",
   "execution_count": 13,
   "id": "4f714445-6b2a-4239-b92d-9e76bce9fafa",
   "metadata": {},
   "outputs": [
    {
     "data": {
      "image/png": "[encoded data removed]",
      "text/plain": [
       "<Figure size 640x480 with 1 Axes>"
      ]
     },
     "metadata": {},
     "output_type": "display_data"
    }
   ],
   "source": [
    "plt.plot([10, 25, 50, 100, 250, 500], \n",
    "         [np.power(np.sum(data_dict[ns]['Sz'], axis=1) - np.sum(data_dict[ns]['Sz_sample_sq'], axis=1), 2).sum() for ns in[10, 25, 50, 100, 250, 500]],\n",
    "        marker='s', label='sampling q')\n",
    "plt.plot([10, 25, 50, 100, 250, 500], \n",
    "         [np.power(np.sum(data_dict[ns]['Sz'], axis=1) - np.sum(data_dict[ns]['Sz_sample_nsq'], axis=1), 2).sum() for ns in[10, 25, 50, 100, 250, 500]],\n",
    "        marker='s', label='tracing q')\n",
    "\n",
    "plt.legend()\n",
    "plt.xlabel(r'Num Samples')\n",
    "plt.ylabel(r'$\\sum_\\beta \\left[\\sum_i (S_z^{exact}(i,\\beta) - S_z^{sampling}(i,\\beta))\\right]^2$')\n",
    "plt.show()"
   ]
  }
 ],
 "metadata": {
  "kernelspec": {
   "display_name": "TeNPy",
   "language": "python",
   "name": "tenpy"
  },
  "language_info": {
   "codemirror_mode": {
    "name": "ipython",
    "version": 3
   },
   "file_extension": ".py",
   "mimetype": "text/x-python",
   "name": "python",
   "nbconvert_exporter": "python",
   "pygments_lexer": "ipython3",
   "version": "3.11.7"
  }
 },
 "nbformat": 4,
 "nbformat_minor": 5
}
